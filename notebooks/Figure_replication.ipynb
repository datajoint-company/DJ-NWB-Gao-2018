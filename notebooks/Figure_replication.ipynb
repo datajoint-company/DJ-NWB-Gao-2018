{
 "cells": [
  {
   "cell_type": "markdown",
   "metadata": {},
   "source": [
    "This notebook replicates figures from Gao et al., 2018."
   ]
  },
  {
   "cell_type": "code",
   "execution_count": 1,
   "metadata": {},
   "outputs": [
    {
     "name": "stdout",
     "output_type": "stream",
     "text": [
      "Connecting root@db_gao2018:3306\n"
     ]
    }
   ],
   "source": [
    "import datajoint as dj\n",
    "from pipeline import ephys, behavior"
   ]
  },
  {
   "cell_type": "code",
   "execution_count": 2,
   "metadata": {},
   "outputs": [],
   "source": [
    "cell_types = dj.U('unit_cell_type') & ephys.UnitSpikeTimes"
   ]
  },
  {
   "cell_type": "code",
   "execution_count": 3,
   "metadata": {},
   "outputs": [],
   "source": [
    "key = ephys.UnitSpikeTimes().fetch('KEY')[0]"
   ]
  },
  {
   "cell_type": "code",
   "execution_count": 4,
   "metadata": {},
   "outputs": [],
   "source": [
    "spike_trials = (ephys.UnitSpikeTimes & key).fetch1('spike_trials')\n",
    "min_trial = min(spike_trials)\n",
    "max_trial = max(spike_trials)\n",
    "hit_r_trials = behavior.TrialSet.Trial & key & \\\n",
    "    'trial_response = \"HitR\"' & \\\n",
    "    'trial_id between {} and {}'.format(min_trial, max_trial)\n",
    "err_r_trials = behavior.TrialSet.Trial & key & \\\n",
    "    'trial_response = \"ErrR\"' & \\\n",
    "    'trial_id between {} and {}'.format(min_trial, max_trial)\n",
    "hit_l_trials = behavior.TrialSet.Trial & key & \\\n",
    "    'trial_response = \"HitL\"' & \\\n",
    "    'trial_id between {} and {}'.format(min_trial, max_trial)\n",
    "err_l_trials = behavior.TrialSet.Trial & key & \\\n",
    "    'trial_response = \"ErrL\"' & \\\n",
    "    'trial_id between {} and {}'.format(min_trial, max_trial)\n",
    "\n",
    "is_valid = len(hit_r_trials) > 15 & len(hit_l_trials) > 15"
   ]
  },
  {
   "cell_type": "code",
   "execution_count": 5,
   "metadata": {},
   "outputs": [
    {
     "data": {
      "text/plain": [
       "False"
      ]
     },
     "execution_count": 5,
     "metadata": {},
     "output_type": "execute_result"
    }
   ],
   "source": []
  },
  {
   "cell_type": "code",
   "execution_count": 3,
   "metadata": {},
   "outputs": [
    {
     "name": "stdout",
     "output_type": "stream",
     "text": [
      "About to delete:\n",
      "`gao2018_ephys`.`__valid_unit`: 1923 items\n"
     ]
    },
    {
     "name": "stdin",
     "output_type": "stream",
     "text": [
      "Proceed? [yes, No]:  yes\n"
     ]
    },
    {
     "name": "stdout",
     "output_type": "stream",
     "text": [
      "Committed.\n"
     ]
    }
   ],
   "source": [
    "ephys.ValidUnit.delete()"
   ]
  },
  {
   "cell_type": "code",
   "execution_count": null,
   "metadata": {},
   "outputs": [],
   "source": []
  }
 ],
 "metadata": {
  "kernelspec": {
   "display_name": "Python 3",
   "language": "python",
   "name": "python3"
  },
  "language_info": {
   "codemirror_mode": {
    "name": "ipython",
    "version": 3
   },
   "file_extension": ".py",
   "mimetype": "text/x-python",
   "name": "python",
   "nbconvert_exporter": "python",
   "pygments_lexer": "ipython3",
   "version": "3.6.6"
  }
 },
 "nbformat": 4,
 "nbformat_minor": 2
}
