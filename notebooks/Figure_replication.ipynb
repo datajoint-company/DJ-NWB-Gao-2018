{
 "cells": [
  {
   "cell_type": "markdown",
   "metadata": {},
   "source": [
    "This notebook replicates figures from Gao et al., 2018."
   ]
  },
  {
   "cell_type": "code",
   "execution_count": 1,
   "metadata": {},
   "outputs": [
    {
     "name": "stdout",
     "output_type": "stream",
     "text": [
      "Connecting root@db_gao2018:3306\n"
     ]
    }
   ],
   "source": [
    "import datajoint as dj\n",
    "from pipeline import ephys, behavior, subject\n",
    "import numpy as np\n",
    "import matplotlib.pyplot as plt\n",
    "from pipeline import get_spk_counts, get_trials, get_spk_times, get_psth\n",
    "import scipy.signal as signal\n",
    "import scipy.stats as ss\n",
    "import datetime\n",
    "import numpy.random as random"
   ]
  },
  {
   "cell_type": "markdown",
   "metadata": {},
   "source": [
    "## Figure 2c"
   ]
  },
  {
   "cell_type": "code",
   "execution_count": 2,
   "metadata": {},
   "outputs": [],
   "source": [
    "subjects = subject.Subject & 'subject in (\"anm00314746\", \"anm00314756\", \\\n",
    "                             \"anm00314757\", \"anm00314758\", \"anm00314760\", \"BAYLORCD6\", \"BAYLORNL12\", \"BAYLORNL14\", \\\n",
    "    \"BAYLORNL15\")'"
   ]
  },
  {
   "cell_type": "code",
   "execution_count": 3,
   "metadata": {},
   "outputs": [],
   "source": [
    "valid_psth = (ephys.AlignedPsth & subjects &\n",
    "           (ephys.UnitSpikeTimes & 'unit_cell_type = \"pyramidal\"') &\n",
    "           'photo_stim_id = \"0\"' & \n",
    "           'trial_condition = \"Hit\"' &\n",
    "           'l_trial_number > 15' &\n",
    "           'r_trial_number > 15').proj(selectivity = 'sample_selectivity + delay_selectivity + response_selectivity')"
   ]
  },
  {
   "cell_type": "code",
   "execution_count": 46,
   "metadata": {},
   "outputs": [],
   "source": [
    "fr_prefer, fr_non_prefer, bins = (ephys.AlignedPsth & (valid_psth & 'selectivity > 0')).fetch(\n",
    "    'psth_prefer', 'psth_non_prefer', 'bins')"
   ]
  },
  {
   "cell_type": "code",
   "execution_count": 47,
   "metadata": {},
   "outputs": [],
   "source": [
    "fr = np.array(fr_prefer.tolist()) - np.array(fr_non_prefer.tolist())"
   ]
  },
  {
   "cell_type": "code",
   "execution_count": 52,
   "metadata": {},
   "outputs": [],
   "source": [
    "def compute_mean_and_sem(fr):\n",
    "    mean_fr = np.average(fr, axis=0) * 5\n",
    "    sem_fr = np.divide(np.std(fr, axis=0), np.sqrt(np.shape(fr)[0])) * 5\n",
    "    return mean_fr, sem_fr"
   ]
  },
  {
   "cell_type": "code",
   "execution_count": 53,
   "metadata": {},
   "outputs": [],
   "source": [
    "mean_fr, sem_fr = compute_mean_and_sem(fr)"
   ]
  },
  {
   "cell_type": "code",
   "execution_count": 54,
   "metadata": {},
   "outputs": [],
   "source": [
    "xlim = [-3, 2]\n",
    "ylim = [-1, 4]"
   ]
  },
  {
   "cell_type": "code",
   "execution_count": 55,
   "metadata": {},
   "outputs": [
    {
     "data": {
      "text/plain": [
       "Text(0, 0.5, 'Selectivity (spks/s)')"
      ]
     },
     "execution_count": 55,
     "metadata": {},
     "output_type": "execute_result"
    },
    {
     "data": {
      "image/png": "[encoded data removed]",
      "text/plain": [
       "<Figure size 432x288 with 1 Axes>"
      ]
     },
     "metadata": {
      "needs_background": "light"
     },
     "output_type": "display_data"
    }
   ],
   "source": [
    "fig, ax = plt.subplots(1, 1, sharex=True)\n",
    "ax.fill_between(bins[0], mean_fr+sem_fr, mean_fr-sem_fr, facecolor=\"gray\")\n",
    "ax.plot(bins[0], mean_fr, color=\"black\")\n",
    "ax.set_xlim(xlim[0], xlim[1])\n",
    "ax.set_ylim(ylim[0], ylim[1])\n",
    "ax.set_xlabel('Time (s)')\n",
    "ax.set_ylabel('Selectivity (spks/s)')"
   ]
  }
 ],
 "metadata": {
  "kernelspec": {
   "display_name": "Python 3",
   "language": "python",
   "name": "python3"
  },
  "language_info": {
   "codemirror_mode": {
    "name": "ipython",
    "version": 3
   },
   "file_extension": ".py",
   "mimetype": "text/x-python",
   "name": "python",
   "nbconvert_exporter": "python",
   "pygments_lexer": "ipython3",
   "version": "3.6.6"
  }
 },
 "nbformat": 4,
 "nbformat_minor": 2
}
