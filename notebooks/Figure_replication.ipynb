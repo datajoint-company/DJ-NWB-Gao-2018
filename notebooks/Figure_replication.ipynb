{
 "cells": [
  {
   "cell_type": "markdown",
   "metadata": {},
   "source": [
    "This notebook replicates figures from Gao et al., 2018."
   ]
  },
  {
   "cell_type": "code",
   "execution_count": 7,
   "metadata": {},
   "outputs": [],
   "source": [
    "import datajoint as dj\n",
    "from pipeline import ephys, behavior, subject, acquisition\n",
    "import numpy as np\n",
    "import matplotlib.pyplot as plt\n",
    "from pipeline import get_spk_counts, get_trials, get_spk_times, get_psth\n",
    "import scipy.signal as signal\n",
    "import scipy.stats as ss\n",
    "import datetime\n",
    "import numpy.random as random\n",
    "%matplotlib inline"
   ]
  },
  {
   "cell_type": "markdown",
   "metadata": {},
   "source": [
    "## Figure 2c"
   ]
  },
  {
   "cell_type": "code",
   "execution_count": 8,
   "metadata": {},
   "outputs": [],
   "source": [
    "def compute_mean_and_sem(fr):\n",
    "    mean_fr = np.average(fr, axis=0)\n",
    "    sem_fr = np.divide(np.std(fr, axis=0), np.sqrt(np.shape(fr)[0]))\n",
    "    return mean_fr, sem_fr"
   ]
  },
  {
   "cell_type": "code",
   "execution_count": 9,
   "metadata": {},
   "outputs": [],
   "source": [
    "# restrict to photo activation sessions\n",
    "sessions = acquisition.Session & (behavior.TrialSetType & 'trial_set_type = \"photo activation\"')\n",
    "\n",
    "# restrict to pyramidal cells, no light trials, only hit trials, trial number > 15\n",
    "valid_psth = (ephys.AlignedPsth & sessions & \n",
    "           (ephys.UnitSpikeTimes & 'unit_cell_type = \"pyramidal\"') &\n",
    "           'photo_stim_id = \"0\"' & \n",
    "           'trial_condition = \"Hit\"' &\n",
    "           'l_trial_number > 15' &\n",
    "           'r_trial_number > 15').proj(selectivity = 'sample_selectivity + delay_selectivity + response_selectivity')\n",
    "\n",
    "# restrict to selective units\n",
    "fr_diff, bins = (ephys.AlignedPsth & (valid_psth & 'selectivity > 0')).fetch(\n",
    "    'psth_diff', 'bins')\n",
    "fr_diff = np.array(fr_diff.tolist())\n"
   ]
  },
  {
   "cell_type": "code",
   "execution_count": 11,
   "metadata": {},
   "outputs": [],
   "source": [
    "mean_fr, sem_fr = compute_mean_and_sem(fr_diff)"
   ]
  },
  {
   "cell_type": "code",
   "execution_count": 12,
   "metadata": {},
   "outputs": [],
   "source": [
    "xlim = [-3, 2]\n",
    "ylim = [-1, 4]\n",
    "time_points = [-2.6, -1.3, 0]"
   ]
  },
  {
   "cell_type": "code",
   "execution_count": 13,
   "metadata": {},
   "outputs": [
    {
     "data": {
      "text/plain": [
       "Text(0, 0.5, 'Selectivity (spks/s)')"
      ]
     },
     "execution_count": 13,
     "metadata": {},
     "output_type": "execute_result"
    },
    {
     "data": {
      "image/png": "[encoded data removed]",
      "text/plain": [
       "<Figure size 432x288 with 1 Axes>"
      ]
     },
     "metadata": {
      "needs_background": "light"
     },
     "output_type": "display_data"
    }
   ],
   "source": [
    "\n",
    "fig, ax = plt.subplots(1, 1, sharex=True)\n",
    "for time_point in time_points:\n",
    "    ax.axvline(x=time_point, color='black', linestyle='dashed')\n",
    "ax.axhline(y=0, color='black')\n",
    "ax.fill_between(bins[0], mean_fr+sem_fr, mean_fr-sem_fr, facecolor=\"gray\")\n",
    "ax.plot(bins[0], mean_fr, color=\"black\")\n",
    "ax.set_xlim(xlim[0], xlim[1])\n",
    "ax.set_ylim(ylim[0], ylim[1])\n",
    "ax.set_xlabel('Time (s)')\n",
    "ax.set_ylabel('Selectivity (spks/s)')"
   ]
  },
  {
   "cell_type": "markdown",
   "metadata": {},
   "source": []
  },
  {
   "cell_type": "markdown",
   "metadata": {},
   "source": [
    "## Figure 3f"
   ]
  },
  {
   "cell_type": "code",
   "execution_count": 14,
   "metadata": {},
   "outputs": [],
   "source": [
    "# restrict to photo inhibition sessions\n",
    "sessions = acquisition.Session & (behavior.TrialSetType & 'trial_set_type = \"photo inhibition\"')\n",
    "\n",
    "# light off condition\n",
    "light_off = (ephys.AlignedPsth & sessions & \n",
    "              (ephys.UnitSpikeTimes & 'unit_cell_type = \"pyramidal\"') &\n",
    "              'photo_stim_id = \"0\"' & \n",
    "              'trial_condition = \"All\"' &\n",
    "              'l_trial_number > 5' &\n",
    "              'r_trial_number > 5').proj(\n",
    "    selectivity = 'sample_selectivity + delay_selectivity + response_selectivity')\n",
    "\n",
    "# restrict to selective units\n",
    "fr_diff_off, bins = (ephys.AlignedPsth & (light_off & 'selectivity > 0')).fetch(\n",
    "    'psth_diff', 'bins')\n",
    "fr_diff_off = np.array(fr_diff_off.tolist())\n",
    "\n",
    "# light on condition\n",
    "light_on = (ephys.AlignedPsth & sessions & \n",
    "              (ephys.UnitSpikeTimes & 'unit_cell_type = \"pyramidal\"') &\n",
    "              'photo_stim_id = \"6\"' & \n",
    "              'trial_condition = \"All\"' &\n",
    "              'l_trial_number > 5' &\n",
    "              'r_trial_number > 5').proj(\n",
    "    selectivity = 'sample_selectivity + delay_selectivity + response_selectivity')\n",
    "\n",
    "fr_diff_on = (ephys.AlignedPsth & (light_on & 'selectivity > 0')).fetch(\n",
    "    'psth_diff')\n",
    "fr_diff_on = np.array(fr_diff_on.tolist())"
   ]
  },
  {
   "cell_type": "code",
   "execution_count": 15,
   "metadata": {},
   "outputs": [
    {
     "name": "stderr",
     "output_type": "stream",
     "text": [
      "/usr/local/lib/python3.6/dist-packages/numpy/lib/function_base.py:356: RuntimeWarning: Mean of empty slice.\n",
      "  avg = a.mean(axis)\n",
      "/usr/local/lib/python3.6/dist-packages/numpy/core/_methods.py:85: RuntimeWarning: invalid value encountered in double_scalars\n",
      "  ret = ret.dtype.type(ret / rcount)\n",
      "/usr/local/lib/python3.6/dist-packages/numpy/core/_methods.py:140: RuntimeWarning: Degrees of freedom <= 0 for slice\n",
      "  keepdims=keepdims)\n",
      "/usr/local/lib/python3.6/dist-packages/numpy/core/_methods.py:110: RuntimeWarning: invalid value encountered in true_divide\n",
      "  arrmean, rcount, out=arrmean, casting='unsafe', subok=False)\n",
      "/usr/local/lib/python3.6/dist-packages/numpy/core/_methods.py:132: RuntimeWarning: invalid value encountered in double_scalars\n",
      "  ret = ret.dtype.type(ret / rcount)\n"
     ]
    }
   ],
   "source": [
    "mean_fr_off, sem_fr_off = compute_mean_and_sem(fr_diff_off)\n",
    "mean_fr_on, sem_fr_on = compute_mean_and_sem(fr_diff_on)"
   ]
  },
  {
   "cell_type": "code",
   "execution_count": 16,
   "metadata": {},
   "outputs": [],
   "source": [
    "mean_fr = [mean_fr_off, mean_fr_on]\n",
    "sem_fr = [sem_fr_off, sem_fr_on]"
   ]
  },
  {
   "cell_type": "code",
   "execution_count": 17,
   "metadata": {},
   "outputs": [
    {
     "ename": "ValueError",
     "evalue": "x and y must have same first dimension, but have shapes (5501,) and (1,)",
     "output_type": "error",
     "traceback": [
      "\u001b[0;31m---------------------------------------------------------------------------\u001b[0m",
      "\u001b[0;31mValueError\u001b[0m                                Traceback (most recent call last)",
      "\u001b[0;32m<ipython-input-17-e21e21b86602>\u001b[0m in \u001b[0;36m<module>\u001b[0;34m\u001b[0m\n\u001b[1;32m      5\u001b[0m     \u001b[0max\u001b[0m\u001b[0;34m.\u001b[0m\u001b[0maxhline\u001b[0m\u001b[0;34m(\u001b[0m\u001b[0my\u001b[0m\u001b[0;34m=\u001b[0m\u001b[0;36m0\u001b[0m\u001b[0;34m,\u001b[0m \u001b[0mcolor\u001b[0m\u001b[0;34m=\u001b[0m\u001b[0;34m'black'\u001b[0m\u001b[0;34m)\u001b[0m\u001b[0;34m\u001b[0m\u001b[0m\n\u001b[1;32m      6\u001b[0m     \u001b[0max\u001b[0m\u001b[0;34m.\u001b[0m\u001b[0mfill_between\u001b[0m\u001b[0;34m(\u001b[0m\u001b[0mbins\u001b[0m\u001b[0;34m[\u001b[0m\u001b[0;36m0\u001b[0m\u001b[0;34m]\u001b[0m\u001b[0;34m,\u001b[0m \u001b[0mmean_fr\u001b[0m\u001b[0;34m[\u001b[0m\u001b[0mix\u001b[0m\u001b[0;34m]\u001b[0m\u001b[0;34m+\u001b[0m\u001b[0msem_fr\u001b[0m\u001b[0;34m[\u001b[0m\u001b[0mix\u001b[0m\u001b[0;34m]\u001b[0m\u001b[0;34m,\u001b[0m \u001b[0mmean_fr\u001b[0m\u001b[0;34m[\u001b[0m\u001b[0mix\u001b[0m\u001b[0;34m]\u001b[0m\u001b[0;34m-\u001b[0m\u001b[0msem_fr\u001b[0m\u001b[0;34m[\u001b[0m\u001b[0mix\u001b[0m\u001b[0;34m]\u001b[0m\u001b[0;34m,\u001b[0m \u001b[0mfacecolor\u001b[0m\u001b[0;34m=\u001b[0m\u001b[0;34m\"gray\"\u001b[0m\u001b[0;34m)\u001b[0m\u001b[0;34m\u001b[0m\u001b[0m\n\u001b[0;32m----> 7\u001b[0;31m     \u001b[0max\u001b[0m\u001b[0;34m.\u001b[0m\u001b[0mplot\u001b[0m\u001b[0;34m(\u001b[0m\u001b[0mbins\u001b[0m\u001b[0;34m[\u001b[0m\u001b[0;36m0\u001b[0m\u001b[0;34m]\u001b[0m\u001b[0;34m,\u001b[0m \u001b[0mmean_fr\u001b[0m\u001b[0;34m[\u001b[0m\u001b[0mix\u001b[0m\u001b[0;34m]\u001b[0m\u001b[0;34m,\u001b[0m \u001b[0mcolor\u001b[0m\u001b[0;34m=\u001b[0m\u001b[0;34m\"black\"\u001b[0m\u001b[0;34m)\u001b[0m\u001b[0;34m\u001b[0m\u001b[0m\n\u001b[0m\u001b[1;32m      8\u001b[0m     \u001b[0max\u001b[0m\u001b[0;34m.\u001b[0m\u001b[0mset_xlim\u001b[0m\u001b[0;34m(\u001b[0m\u001b[0mxlim\u001b[0m\u001b[0;34m[\u001b[0m\u001b[0;36m0\u001b[0m\u001b[0;34m]\u001b[0m\u001b[0;34m,\u001b[0m \u001b[0mxlim\u001b[0m\u001b[0;34m[\u001b[0m\u001b[0;36m1\u001b[0m\u001b[0;34m]\u001b[0m\u001b[0;34m)\u001b[0m\u001b[0;34m\u001b[0m\u001b[0m\n\u001b[1;32m      9\u001b[0m     \u001b[0max\u001b[0m\u001b[0;34m.\u001b[0m\u001b[0mset_ylim\u001b[0m\u001b[0;34m(\u001b[0m\u001b[0mylim\u001b[0m\u001b[0;34m[\u001b[0m\u001b[0;36m0\u001b[0m\u001b[0;34m]\u001b[0m\u001b[0;34m,\u001b[0m \u001b[0mylim\u001b[0m\u001b[0;34m[\u001b[0m\u001b[0;36m1\u001b[0m\u001b[0;34m]\u001b[0m\u001b[0;34m)\u001b[0m\u001b[0;34m\u001b[0m\u001b[0m\n",
      "\u001b[0;32m/usr/local/lib/python3.6/dist-packages/matplotlib/__init__.py\u001b[0m in \u001b[0;36minner\u001b[0;34m(ax, data, *args, **kwargs)\u001b[0m\n\u001b[1;32m   1803\u001b[0m                         \u001b[0;34m\"the Matplotlib list!)\"\u001b[0m \u001b[0;34m%\u001b[0m \u001b[0;34m(\u001b[0m\u001b[0mlabel_namer\u001b[0m\u001b[0;34m,\u001b[0m \u001b[0mfunc\u001b[0m\u001b[0;34m.\u001b[0m\u001b[0m__name__\u001b[0m\u001b[0;34m)\u001b[0m\u001b[0;34m,\u001b[0m\u001b[0;34m\u001b[0m\u001b[0m\n\u001b[1;32m   1804\u001b[0m                         RuntimeWarning, stacklevel=2)\n\u001b[0;32m-> 1805\u001b[0;31m             \u001b[0;32mreturn\u001b[0m \u001b[0mfunc\u001b[0m\u001b[0;34m(\u001b[0m\u001b[0max\u001b[0m\u001b[0;34m,\u001b[0m \u001b[0;34m*\u001b[0m\u001b[0margs\u001b[0m\u001b[0;34m,\u001b[0m \u001b[0;34m**\u001b[0m\u001b[0mkwargs\u001b[0m\u001b[0;34m)\u001b[0m\u001b[0;34m\u001b[0m\u001b[0m\n\u001b[0m\u001b[1;32m   1806\u001b[0m \u001b[0;34m\u001b[0m\u001b[0m\n\u001b[1;32m   1807\u001b[0m         inner.__doc__ = _add_data_doc(inner.__doc__,\n",
      "\u001b[0;32m/usr/local/lib/python3.6/dist-packages/matplotlib/axes/_axes.py\u001b[0m in \u001b[0;36mplot\u001b[0;34m(self, scalex, scaley, *args, **kwargs)\u001b[0m\n\u001b[1;32m   1601\u001b[0m         \u001b[0mkwargs\u001b[0m \u001b[0;34m=\u001b[0m \u001b[0mcbook\u001b[0m\u001b[0;34m.\u001b[0m\u001b[0mnormalize_kwargs\u001b[0m\u001b[0;34m(\u001b[0m\u001b[0mkwargs\u001b[0m\u001b[0;34m,\u001b[0m \u001b[0mmlines\u001b[0m\u001b[0;34m.\u001b[0m\u001b[0mLine2D\u001b[0m\u001b[0;34m.\u001b[0m\u001b[0m_alias_map\u001b[0m\u001b[0;34m)\u001b[0m\u001b[0;34m\u001b[0m\u001b[0m\n\u001b[1;32m   1602\u001b[0m \u001b[0;34m\u001b[0m\u001b[0m\n\u001b[0;32m-> 1603\u001b[0;31m         \u001b[0;32mfor\u001b[0m \u001b[0mline\u001b[0m \u001b[0;32min\u001b[0m \u001b[0mself\u001b[0m\u001b[0;34m.\u001b[0m\u001b[0m_get_lines\u001b[0m\u001b[0;34m(\u001b[0m\u001b[0;34m*\u001b[0m\u001b[0margs\u001b[0m\u001b[0;34m,\u001b[0m \u001b[0;34m**\u001b[0m\u001b[0mkwargs\u001b[0m\u001b[0;34m)\u001b[0m\u001b[0;34m:\u001b[0m\u001b[0;34m\u001b[0m\u001b[0m\n\u001b[0m\u001b[1;32m   1604\u001b[0m             \u001b[0mself\u001b[0m\u001b[0;34m.\u001b[0m\u001b[0madd_line\u001b[0m\u001b[0;34m(\u001b[0m\u001b[0mline\u001b[0m\u001b[0;34m)\u001b[0m\u001b[0;34m\u001b[0m\u001b[0m\n\u001b[1;32m   1605\u001b[0m             \u001b[0mlines\u001b[0m\u001b[0;34m.\u001b[0m\u001b[0mappend\u001b[0m\u001b[0;34m(\u001b[0m\u001b[0mline\u001b[0m\u001b[0;34m)\u001b[0m\u001b[0;34m\u001b[0m\u001b[0m\n",
      "\u001b[0;32m/usr/local/lib/python3.6/dist-packages/matplotlib/axes/_base.py\u001b[0m in \u001b[0;36m_grab_next_args\u001b[0;34m(self, *args, **kwargs)\u001b[0m\n\u001b[1;32m    391\u001b[0m                 \u001b[0mthis\u001b[0m \u001b[0;34m+=\u001b[0m \u001b[0margs\u001b[0m\u001b[0;34m[\u001b[0m\u001b[0;36m0\u001b[0m\u001b[0;34m]\u001b[0m\u001b[0;34m,\u001b[0m\u001b[0;34m\u001b[0m\u001b[0m\n\u001b[1;32m    392\u001b[0m                 \u001b[0margs\u001b[0m \u001b[0;34m=\u001b[0m \u001b[0margs\u001b[0m\u001b[0;34m[\u001b[0m\u001b[0;36m1\u001b[0m\u001b[0;34m:\u001b[0m\u001b[0;34m]\u001b[0m\u001b[0;34m\u001b[0m\u001b[0m\n\u001b[0;32m--> 393\u001b[0;31m             \u001b[0;32myield\u001b[0m \u001b[0;32mfrom\u001b[0m \u001b[0mself\u001b[0m\u001b[0;34m.\u001b[0m\u001b[0m_plot_args\u001b[0m\u001b[0;34m(\u001b[0m\u001b[0mthis\u001b[0m\u001b[0;34m,\u001b[0m \u001b[0mkwargs\u001b[0m\u001b[0;34m)\u001b[0m\u001b[0;34m\u001b[0m\u001b[0m\n\u001b[0m\u001b[1;32m    394\u001b[0m \u001b[0;34m\u001b[0m\u001b[0m\n\u001b[1;32m    395\u001b[0m \u001b[0;34m\u001b[0m\u001b[0m\n",
      "\u001b[0;32m/usr/local/lib/python3.6/dist-packages/matplotlib/axes/_base.py\u001b[0m in \u001b[0;36m_plot_args\u001b[0;34m(self, tup, kwargs)\u001b[0m\n\u001b[1;32m    368\u001b[0m             \u001b[0mx\u001b[0m\u001b[0;34m,\u001b[0m \u001b[0my\u001b[0m \u001b[0;34m=\u001b[0m \u001b[0mindex_of\u001b[0m\u001b[0;34m(\u001b[0m\u001b[0mtup\u001b[0m\u001b[0;34m[\u001b[0m\u001b[0;34m-\u001b[0m\u001b[0;36m1\u001b[0m\u001b[0;34m]\u001b[0m\u001b[0;34m)\u001b[0m\u001b[0;34m\u001b[0m\u001b[0m\n\u001b[1;32m    369\u001b[0m \u001b[0;34m\u001b[0m\u001b[0m\n\u001b[0;32m--> 370\u001b[0;31m         \u001b[0mx\u001b[0m\u001b[0;34m,\u001b[0m \u001b[0my\u001b[0m \u001b[0;34m=\u001b[0m \u001b[0mself\u001b[0m\u001b[0;34m.\u001b[0m\u001b[0m_xy_from_xy\u001b[0m\u001b[0;34m(\u001b[0m\u001b[0mx\u001b[0m\u001b[0;34m,\u001b[0m \u001b[0my\u001b[0m\u001b[0;34m)\u001b[0m\u001b[0;34m\u001b[0m\u001b[0m\n\u001b[0m\u001b[1;32m    371\u001b[0m \u001b[0;34m\u001b[0m\u001b[0m\n\u001b[1;32m    372\u001b[0m         \u001b[0;32mif\u001b[0m \u001b[0mself\u001b[0m\u001b[0;34m.\u001b[0m\u001b[0mcommand\u001b[0m \u001b[0;34m==\u001b[0m \u001b[0;34m'plot'\u001b[0m\u001b[0;34m:\u001b[0m\u001b[0;34m\u001b[0m\u001b[0m\n",
      "\u001b[0;32m/usr/local/lib/python3.6/dist-packages/matplotlib/axes/_base.py\u001b[0m in \u001b[0;36m_xy_from_xy\u001b[0;34m(self, x, y)\u001b[0m\n\u001b[1;32m    229\u001b[0m         \u001b[0;32mif\u001b[0m \u001b[0mx\u001b[0m\u001b[0;34m.\u001b[0m\u001b[0mshape\u001b[0m\u001b[0;34m[\u001b[0m\u001b[0;36m0\u001b[0m\u001b[0;34m]\u001b[0m \u001b[0;34m!=\u001b[0m \u001b[0my\u001b[0m\u001b[0;34m.\u001b[0m\u001b[0mshape\u001b[0m\u001b[0;34m[\u001b[0m\u001b[0;36m0\u001b[0m\u001b[0;34m]\u001b[0m\u001b[0;34m:\u001b[0m\u001b[0;34m\u001b[0m\u001b[0m\n\u001b[1;32m    230\u001b[0m             raise ValueError(\"x and y must have same first dimension, but \"\n\u001b[0;32m--> 231\u001b[0;31m                              \"have shapes {} and {}\".format(x.shape, y.shape))\n\u001b[0m\u001b[1;32m    232\u001b[0m         \u001b[0;32mif\u001b[0m \u001b[0mx\u001b[0m\u001b[0;34m.\u001b[0m\u001b[0mndim\u001b[0m \u001b[0;34m>\u001b[0m \u001b[0;36m2\u001b[0m \u001b[0;32mor\u001b[0m \u001b[0my\u001b[0m\u001b[0;34m.\u001b[0m\u001b[0mndim\u001b[0m \u001b[0;34m>\u001b[0m \u001b[0;36m2\u001b[0m\u001b[0;34m:\u001b[0m\u001b[0;34m\u001b[0m\u001b[0m\n\u001b[1;32m    233\u001b[0m             raise ValueError(\"x and y can be no greater than 2-D, but have \"\n",
      "\u001b[0;31mValueError\u001b[0m: x and y must have same first dimension, but have shapes (5501,) and (1,)"
     ]
    },
    {
     "data": {
      "image/png": "[encoded data removed]",
      "text/plain": [
       "<Figure size 1080x360 with 2 Axes>"
      ]
     },
     "metadata": {
      "needs_background": "light"
     },
     "output_type": "display_data"
    }
   ],
   "source": [
    "ylim = [-1, 3]\n",
    "fig, axs = plt.subplots(1, 2, sharex=True, figsize=(15,5))\n",
    "for ix, ax in enumerate(axs):\n",
    "    for time_point in time_points:\n",
    "        ax.axvline(x=time_point, color='black', linestyle='dashed')\n",
    "    ax.axhline(y=0, color='black')\n",
    "    ax.fill_between(bins[0], mean_fr[ix]+sem_fr[ix], mean_fr[ix]-sem_fr[ix], facecolor=\"gray\")\n",
    "    ax.plot(bins[0], mean_fr[ix], color=\"black\")\n",
    "    ax.set_xlim(xlim[0], xlim[1])\n",
    "    ax.set_ylim(ylim[0], ylim[1])\n",
    "    ax.set_xlabel('Time (s)')\n",
    "    ax.set_ylabel('Selectivity (spks/s)')"
   ]
  },
  {
   "cell_type": "code",
   "execution_count": 18,
   "metadata": {},
   "outputs": [
    {
     "data": {
      "text/plain": [
       "nan"
      ]
     },
     "execution_count": 18,
     "metadata": {},
     "output_type": "execute_result"
    }
   ],
   "source": [
    "mean_fr_on"
   ]
  },
  {
   "cell_type": "code",
   "execution_count": 19,
   "metadata": {},
   "outputs": [],
   "source": [
    "light_on = (ephys.AlignedPsth & sessions & \n",
    "              (ephys.UnitSpikeTimes & 'unit_cell_type = \"pyramidal\"') &\n",
    "              'photo_stim_id = \"6\"' & \n",
    "              'trial_condition = \"All\"' &\n",
    "              'l_trial_number > 5' &\n",
    "              'r_trial_number > 5').proj(\n",
    "    selectivity = 'sample_selectivity + delay_selectivity + response_selectivity')"
   ]
  },
  {
   "cell_type": "code",
   "execution_count": 15,
   "metadata": {},
   "outputs": [
    {
     "data": {
      "text/html": [
       "\n",
       "        \n",
       "        <style type=\"text/css\">\n",
       "            .Relation{\n",
       "                border-collapse:collapse;\n",
       "            }\n",
       "            .Relation th{\n",
       "                background: #A0A0A0; color: #ffffff; padding:4px; border:#f0e0e0 1px solid;\n",
       "                font-weight: normal; font-family: monospace; font-size: 100%;\n",
       "            }\n",
       "            .Relation td{\n",
       "                padding:4px; border:#f0e0e0 1px solid; font-size:100%;\n",
       "            }\n",
       "            .Relation tr:nth-child(odd){\n",
       "                background: #ffffff;\n",
       "            }\n",
       "            .Relation tr:nth-child(even){\n",
       "                background: #f3f1ff;\n",
       "            }\n",
       "            /* Tooltip container */\n",
       "            .djtooltip {\n",
       "            }\n",
       "            /* Tooltip text */\n",
       "            .djtooltip .djtooltiptext {\n",
       "                visibility: hidden;\n",
       "                width: 120px;\n",
       "                background-color: black;\n",
       "                color: #fff;\n",
       "                text-align: center;\n",
       "                padding: 5px 0;\n",
       "                border-radius: 6px;\n",
       "                /* Position the tooltip text - see examples below! */\n",
       "                position: absolute;\n",
       "                z-index: 1;\n",
       "            }\n",
       "            #primary {\n",
       "                font-weight: bold;\n",
       "                color: black;\n",
       "            }\n",
       "\n",
       "            #nonprimary {\n",
       "                font-weight: normal;\n",
       "                color: white;\n",
       "            }\n",
       "\n",
       "            /* Show the tooltip text when you mouse over the tooltip container */\n",
       "            .djtooltip:hover .djtooltiptext {\n",
       "                visibility: visible;\n",
       "            }\n",
       "        </style>\n",
       "        \n",
       "        \n",
       "            <div style=\"max-height:1000px;max-width:1500px;overflow:auto;\">\n",
       "            <table border=\"1\" class=\"Relation\">\n",
       "                <thead> <tr style=\"text-align: right;\"> <th> <div class=\"djtooltip\">\n",
       "                                <p id=\"primary\">subject</p>\n",
       "                                <span class=\"djtooltiptext\">name of the subject</span>\n",
       "                            </div></th><th><div class=\"djtooltip\">\n",
       "                                <p id=\"primary\">session_time</p>\n",
       "                                <span class=\"djtooltiptext\">session time</span>\n",
       "                            </div></th><th><div class=\"djtooltip\">\n",
       "                                <p id=\"primary\">brain_location</p>\n",
       "                                <span class=\"djtooltiptext\"></span>\n",
       "                            </div></th><th><div class=\"djtooltip\">\n",
       "                                <p id=\"primary\">unit_id</p>\n",
       "                                <span class=\"djtooltiptext\"></span>\n",
       "                            </div></th><th><div class=\"djtooltip\">\n",
       "                                <p id=\"primary\">photo_stim_id</p>\n",
       "                                <span class=\"djtooltiptext\"></span>\n",
       "                            </div></th><th><div class=\"djtooltip\">\n",
       "                                <p id=\"primary\">trial_condition</p>\n",
       "                                <span class=\"djtooltiptext\">name of this condition</span>\n",
       "                            </div></th><th><div class=\"djtooltip\">\n",
       "                                <p id=\"nonprimary\">selectivity</p>\n",
       "                                <span class=\"djtooltiptext\">calculated attribute</span>\n",
       "                            </div> </th> </tr> </thead>\n",
       "                <tbody> <tr>  </tr> </tbody>\n",
       "            </table>\n",
       "            \n",
       "            <p>Total: 0</p></div>\n",
       "            "
      ],
      "text/plain": [
       "*subject    *session_time  *brain_locatio *unit_id    *photo_stim_id *trial_conditi selectivity   \n",
       "+---------+ +------------+ +------------+ +---------+ +------------+ +------------+ +------------+\n",
       "\n",
       " (Total: 0)"
      ]
     },
     "execution_count": 15,
     "metadata": {},
     "output_type": "execute_result"
    }
   ],
   "source": [
    "light_on"
   ]
  },
  {
   "cell_type": "code",
   "execution_count": 2,
   "metadata": {},
   "outputs": [
    {
     "name": "stderr",
     "output_type": "stream",
     "text": [
      "100%|██████████| 3846/3846 [01:01<00:00, 62.26it/s]\n"
     ]
    },
    {
     "data": {
      "text/plain": [
       "[]"
      ]
     },
     "execution_count": 2,
     "metadata": {},
     "output_type": "execute_result"
    }
   ],
   "source": [
    "ephys.AlignedPsth.populate('photo_stim_id=\"6\"', suppress_errors=True, display_progress=True)"
   ]
  },
  {
   "cell_type": "code",
   "execution_count": 20,
   "metadata": {},
   "outputs": [
    {
     "data": {
      "text/html": [
       "\n",
       "        \n",
       "        <style type=\"text/css\">\n",
       "            .Relation{\n",
       "                border-collapse:collapse;\n",
       "            }\n",
       "            .Relation th{\n",
       "                background: #A0A0A0; color: #ffffff; padding:4px; border:#f0e0e0 1px solid;\n",
       "                font-weight: normal; font-family: monospace; font-size: 100%;\n",
       "            }\n",
       "            .Relation td{\n",
       "                padding:4px; border:#f0e0e0 1px solid; font-size:100%;\n",
       "            }\n",
       "            .Relation tr:nth-child(odd){\n",
       "                background: #ffffff;\n",
       "            }\n",
       "            .Relation tr:nth-child(even){\n",
       "                background: #f3f1ff;\n",
       "            }\n",
       "            /* Tooltip container */\n",
       "            .djtooltip {\n",
       "            }\n",
       "            /* Tooltip text */\n",
       "            .djtooltip .djtooltiptext {\n",
       "                visibility: hidden;\n",
       "                width: 120px;\n",
       "                background-color: black;\n",
       "                color: #fff;\n",
       "                text-align: center;\n",
       "                padding: 5px 0;\n",
       "                border-radius: 6px;\n",
       "                /* Position the tooltip text - see examples below! */\n",
       "                position: absolute;\n",
       "                z-index: 1;\n",
       "            }\n",
       "            #primary {\n",
       "                font-weight: bold;\n",
       "                color: black;\n",
       "            }\n",
       "\n",
       "            #nonprimary {\n",
       "                font-weight: normal;\n",
       "                color: white;\n",
       "            }\n",
       "\n",
       "            /* Show the tooltip text when you mouse over the tooltip container */\n",
       "            .djtooltip:hover .djtooltiptext {\n",
       "                visibility: visible;\n",
       "            }\n",
       "        </style>\n",
       "        \n",
       "        <b></b>\n",
       "            <div style=\"max-height:1000px;max-width:1500px;overflow:auto;\">\n",
       "            <table border=\"1\" class=\"Relation\">\n",
       "                <thead> <tr style=\"text-align: right;\"> <th> <div class=\"djtooltip\">\n",
       "                                <p id=\"primary\">subject</p>\n",
       "                                <span class=\"djtooltiptext\">name of the subject</span>\n",
       "                            </div></th><th><div class=\"djtooltip\">\n",
       "                                <p id=\"primary\">session_time</p>\n",
       "                                <span class=\"djtooltiptext\">session time</span>\n",
       "                            </div></th><th><div class=\"djtooltip\">\n",
       "                                <p id=\"primary\">trial_id</p>\n",
       "                                <span class=\"djtooltiptext\">trial number to reference to the trials</span>\n",
       "                            </div></th><th><div class=\"djtooltip\">\n",
       "                                <p id=\"nonprimary\">trial_start_time</p>\n",
       "                                <span class=\"djtooltiptext\">in secs, time referenced to session start</span>\n",
       "                            </div></th><th><div class=\"djtooltip\">\n",
       "                                <p id=\"nonprimary\">trial_pole_in_time</p>\n",
       "                                <span class=\"djtooltiptext\">in secs, the start of the sample period for each trial, relative to the trial start</span>\n",
       "                            </div></th><th><div class=\"djtooltip\">\n",
       "                                <p id=\"nonprimary\">trial_pole_out_time</p>\n",
       "                                <span class=\"djtooltiptext\">in secs, the end of the sample period and start of the delay period, relative to the trial start</span>\n",
       "                            </div></th><th><div class=\"djtooltip\">\n",
       "                                <p id=\"nonprimary\">trial_cue_time</p>\n",
       "                                <span class=\"djtooltiptext\">in secs, the end of the delay period, relative to the start of the trials</span>\n",
       "                            </div></th><th><div class=\"djtooltip\">\n",
       "                                <p id=\"nonprimary\">trial_response</p>\n",
       "                                <span class=\"djtooltiptext\">subject response to the stimulus</span>\n",
       "                            </div></th><th><div class=\"djtooltip\">\n",
       "                                <p id=\"nonprimary\">trial_lick_early</p>\n",
       "                                <span class=\"djtooltiptext\">whether the animal licks early</span>\n",
       "                            </div></th><th><div class=\"djtooltip\">\n",
       "                                <p id=\"nonprimary\">photo_stim_id</p>\n",
       "                                <span class=\"djtooltiptext\"></span>\n",
       "                            </div></th><th><div class=\"djtooltip\">\n",
       "                                <p id=\"nonprimary\">trial_start_idx</p>\n",
       "                                <span class=\"djtooltiptext\">first index for this trial, on the session recording series</span>\n",
       "                            </div></th><th><div class=\"djtooltip\">\n",
       "                                <p id=\"nonprimary\">trial_end_idx</p>\n",
       "                                <span class=\"djtooltiptext\">last index for this trial, on the session recording series</span>\n",
       "                            </div> </th> </tr> </thead>\n",
       "                <tbody> <tr> <td>BAYLORCD12</td>\n",
       "<td>2018-01-25 19:16:01</td>\n",
       "<td>31</td>\n",
       "<td>3544.89</td>\n",
       "<td>0.57</td>\n",
       "<td>1.87</td>\n",
       "<td>3.17</td>\n",
       "<td>HitL</td>\n",
       "<td>1</td>\n",
       "<td>6</td>\n",
       "<td>3000000</td>\n",
       "<td>3099999</td></tr><tr><td>BAYLORCD12</td>\n",
       "<td>2018-01-25 19:16:01</td>\n",
       "<td>41</td>\n",
       "<td>3664.32</td>\n",
       "<td>0.57</td>\n",
       "<td>2.524</td>\n",
       "<td>3.824</td>\n",
       "<td>HitR</td>\n",
       "<td>1</td>\n",
       "<td>6</td>\n",
       "<td>4000000</td>\n",
       "<td>4099999</td></tr><tr><td>BAYLORCD12</td>\n",
       "<td>2018-01-25 19:16:01</td>\n",
       "<td>43</td>\n",
       "<td>3688.64</td>\n",
       "<td>0.57</td>\n",
       "<td>1.87</td>\n",
       "<td>3.17</td>\n",
       "<td>HitR</td>\n",
       "<td>1</td>\n",
       "<td>6</td>\n",
       "<td>4200000</td>\n",
       "<td>4299999</td></tr><tr><td>BAYLORCD12</td>\n",
       "<td>2018-01-25 19:16:01</td>\n",
       "<td>75</td>\n",
       "<td>4095.68</td>\n",
       "<td>0.57</td>\n",
       "<td>1.87</td>\n",
       "<td>3.17</td>\n",
       "<td>HitL</td>\n",
       "<td>1</td>\n",
       "<td>6</td>\n",
       "<td>7400000</td>\n",
       "<td>7499999</td></tr><tr><td>BAYLORCD12</td>\n",
       "<td>2018-01-25 19:16:01</td>\n",
       "<td>87</td>\n",
       "<td>4236.96</td>\n",
       "<td>0.57</td>\n",
       "<td>1.87</td>\n",
       "<td>3.17</td>\n",
       "<td>HitL</td>\n",
       "<td>1</td>\n",
       "<td>6</td>\n",
       "<td>8600000</td>\n",
       "<td>8699999</td></tr><tr><td>BAYLORCD12</td>\n",
       "<td>2018-01-25 19:16:01</td>\n",
       "<td>117</td>\n",
       "<td>4572.94</td>\n",
       "<td>0.57</td>\n",
       "<td>1.87</td>\n",
       "<td>3.17</td>\n",
       "<td>ErrL</td>\n",
       "<td>1</td>\n",
       "<td>6</td>\n",
       "<td>11600000</td>\n",
       "<td>11699999</td></tr><tr><td>BAYLORCD12</td>\n",
       "<td>2018-01-25 19:16:01</td>\n",
       "<td>133</td>\n",
       "<td>4751.12</td>\n",
       "<td>0.57</td>\n",
       "<td>1.87</td>\n",
       "<td>3.17</td>\n",
       "<td>HitR</td>\n",
       "<td>1</td>\n",
       "<td>6</td>\n",
       "<td>13200000</td>\n",
       "<td>13299999</td></tr><tr><td>BAYLORCD12</td>\n",
       "<td>2018-01-25 19:16:01</td>\n",
       "<td>135</td>\n",
       "<td>4771.9</td>\n",
       "<td>0.57</td>\n",
       "<td>1.87</td>\n",
       "<td>3.17</td>\n",
       "<td>HitL</td>\n",
       "<td>1</td>\n",
       "<td>6</td>\n",
       "<td>13400000</td>\n",
       "<td>13499999</td></tr><tr><td>BAYLORCD12</td>\n",
       "<td>2018-01-25 19:16:01</td>\n",
       "<td>137</td>\n",
       "<td>4791.27</td>\n",
       "<td>0.57</td>\n",
       "<td>1.87</td>\n",
       "<td>3.17</td>\n",
       "<td>HitR</td>\n",
       "<td>1</td>\n",
       "<td>6</td>\n",
       "<td>13600000</td>\n",
       "<td>13699999</td></tr><tr><td>BAYLORCD12</td>\n",
       "<td>2018-01-25 19:16:01</td>\n",
       "<td>139</td>\n",
       "<td>4815.33</td>\n",
       "<td>0.57</td>\n",
       "<td>1.87</td>\n",
       "<td>3.17</td>\n",
       "<td>HitL</td>\n",
       "<td>1</td>\n",
       "<td>6</td>\n",
       "<td>13800000</td>\n",
       "<td>13899999</td></tr><tr><td>BAYLORCD12</td>\n",
       "<td>2018-01-25 19:16:01</td>\n",
       "<td>187</td>\n",
       "<td>5357.85</td>\n",
       "<td>0.57</td>\n",
       "<td>1.87</td>\n",
       "<td>3.17</td>\n",
       "<td>HitL</td>\n",
       "<td>1</td>\n",
       "<td>6</td>\n",
       "<td>18600000</td>\n",
       "<td>18699999</td></tr><tr><td>BAYLORCD12</td>\n",
       "<td>2018-01-25 19:16:01</td>\n",
       "<td>249</td>\n",
       "<td>6063.15</td>\n",
       "<td>0.57</td>\n",
       "<td>1.87</td>\n",
       "<td>3.17</td>\n",
       "<td>HitR</td>\n",
       "<td>1</td>\n",
       "<td>6</td>\n",
       "<td>24800000</td>\n",
       "<td>24899999</td> </tr> </tbody>\n",
       "            </table>\n",
       "            <p>...</p>\n",
       "            <p>Total: 746</p></div>\n",
       "            "
      ],
      "text/plain": [
       "*subject       *session_time  *trial_id    trial_start_ti trial_pole_in_ trial_pole_out trial_cue_time trial_response trial_lick_ear photo_stim_id  trial_start_id trial_end_idx \n",
       "+------------+ +------------+ +----------+ +------------+ +------------+ +------------+ +------------+ +------------+ +------------+ +------------+ +------------+ +------------+\n",
       "BAYLORCD12     2018-01-25 19: 31           3544.89        0.57           1.87           3.17           HitL           1              6              3000000        3099999       \n",
       "BAYLORCD12     2018-01-25 19: 41           3664.32        0.57           2.524          3.824          HitR           1              6              4000000        4099999       \n",
       "BAYLORCD12     2018-01-25 19: 43           3688.64        0.57           1.87           3.17           HitR           1              6              4200000        4299999       \n",
       "BAYLORCD12     2018-01-25 19: 75           4095.68        0.57           1.87           3.17           HitL           1              6              7400000        7499999       \n",
       "BAYLORCD12     2018-01-25 19: 87           4236.96        0.57           1.87           3.17           HitL           1              6              8600000        8699999       \n",
       "BAYLORCD12     2018-01-25 19: 117          4572.94        0.57           1.87           3.17           ErrL           1              6              11600000       11699999      \n",
       "BAYLORCD12     2018-01-25 19: 133          4751.12        0.57           1.87           3.17           HitR           1              6              13200000       13299999      \n",
       "BAYLORCD12     2018-01-25 19: 135          4771.9         0.57           1.87           3.17           HitL           1              6              13400000       13499999      \n",
       "BAYLORCD12     2018-01-25 19: 137          4791.27        0.57           1.87           3.17           HitR           1              6              13600000       13699999      \n",
       "BAYLORCD12     2018-01-25 19: 139          4815.33        0.57           1.87           3.17           HitL           1              6              13800000       13899999      \n",
       "BAYLORCD12     2018-01-25 19: 187          5357.85        0.57           1.87           3.17           HitL           1              6              18600000       18699999      \n",
       "BAYLORCD12     2018-01-25 19: 249          6063.15        0.57           1.87           3.17           HitR           1              6              24800000       24899999      \n",
       "   ...\n",
       " (Total: 746)"
      ]
     },
     "execution_count": 20,
     "metadata": {},
     "output_type": "execute_result"
    }
   ],
   "source": [
    "behavior.TrialSet.Trial & 'photo_stim_id=\"6\"'"
   ]
  },
  {
   "cell_type": "code",
   "execution_count": null,
   "metadata": {},
   "outputs": [],
   "source": []
  }
 ],
 "metadata": {
  "kernelspec": {
   "display_name": "Python 3",
   "language": "python",
   "name": "python3"
  },
  "language_info": {
   "codemirror_mode": {
    "name": "ipython",
    "version": 3
   },
   "file_extension": ".py",
   "mimetype": "text/x-python",
   "name": "python",
   "nbconvert_exporter": "python",
   "pygments_lexer": "ipython3",
   "version": "3.6.6"
  }
 },
 "nbformat": 4,
 "nbformat_minor": 2
}
