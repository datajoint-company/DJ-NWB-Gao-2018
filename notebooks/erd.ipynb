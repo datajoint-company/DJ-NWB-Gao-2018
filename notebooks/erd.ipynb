{
 "cells": [
  {
   "cell_type": "code",
   "execution_count": 1,
   "metadata": {},
   "outputs": [
    {
     "name": "stdout",
     "output_type": "stream",
     "text": [
      "Connecting root@db_gao2018:3306\n"
     ]
    }
   ],
   "source": [
    "import datajoint as dj\n",
    "from pipeline import reference, subject, action, acquisition"
   ]
  },
  {
   "cell_type": "markdown",
   "metadata": {},
   "source": [
    "# Reference"
   ]
  },
  {
   "cell_type": "code",
   "execution_count": 2,
   "metadata": {},
   "outputs": [
    {
     "data": {
      "image/svg+xml": [
       "<svg height=\"114pt\" viewBox=\"0.00 0.00 1080.50 114.00\" width=\"1081pt\" xmlns=\"http://www.w3.org/2000/svg\" xmlns:xlink=\"http://www.w3.org/1999/xlink\">\n",
       "<g class=\"graph\" id=\"graph0\" transform=\"scale(1 1) rotate(0) translate(4 110)\">\n",
       "<title>%3</title>\n",
       "<polygon fill=\"#ffffff\" points=\"-4,4 -4,-110 1076.5,-110 1076.5,4 -4,4\" stroke=\"transparent\"/>\n",
       "<!-- reference.AnimalSource -->\n",
       "<g class=\"node\" id=\"node1\">\n",
       "<title>reference.AnimalSource</title>\n",
       "<g id=\"a_node1\"><a xlink:title=\"animal_source_name   \r",
       "\">\n",
       "<polygon fill=\"#000000\" fill-opacity=\"0.125490\" points=\"121,-106 0,-106 0,-71 121,-71 121,-106\" stroke=\"transparent\"/>\n",
       "<text fill=\"#000000\" font-family=\"arial\" font-size=\"10.00\" text-anchor=\"middle\" x=\"60.5\" y=\"-86\">reference.AnimalSource</text>\n",
       "</a>\n",
       "</g>\n",
       "</g>\n",
       "<!-- reference.Experimenter -->\n",
       "<g class=\"node\" id=\"node2\">\n",
       "<title>reference.Experimenter</title>\n",
       "<g id=\"a_node2\"><a xlink:title=\"experimenter_name    \r",
       "\">\n",
       "<polygon fill=\"#000000\" fill-opacity=\"0.125490\" points=\"257.5,-106 139.5,-106 139.5,-71 257.5,-71 257.5,-106\" stroke=\"transparent\"/>\n",
       "<text fill=\"#000000\" font-family=\"arial\" font-size=\"10.00\" text-anchor=\"middle\" x=\"198.5\" y=\"-86\">reference.Experimenter</text>\n",
       "</a>\n",
       "</g>\n",
       "</g>\n",
       "<!-- reference.Hemisphere -->\n",
       "<g class=\"node\" id=\"node3\">\n",
       "<title>reference.Hemisphere</title>\n",
       "<g id=\"a_node3\"><a xlink:title=\"hemisphere_name      \r",
       "\">\n",
       "<polygon fill=\"#000000\" fill-opacity=\"0.125490\" points=\"387.5,-106 275.5,-106 275.5,-71 387.5,-71 387.5,-106\" stroke=\"transparent\"/>\n",
       "<text fill=\"#000000\" font-family=\"arial\" font-size=\"10.00\" text-anchor=\"middle\" x=\"331.5\" y=\"-86\">reference.Hemisphere</text>\n",
       "</a>\n",
       "</g>\n",
       "</g>\n",
       "<!-- reference.VirusSource -->\n",
       "<g class=\"node\" id=\"node4\">\n",
       "<title>reference.VirusSource</title>\n",
       "<g id=\"a_node4\"><a xlink:title=\"virus_source_name    \r",
       "\">\n",
       "<polygon fill=\"#000000\" fill-opacity=\"0.125490\" points=\"519,-106 406,-106 406,-71 519,-71 519,-106\" stroke=\"transparent\"/>\n",
       "<text fill=\"#000000\" font-family=\"arial\" font-size=\"10.00\" text-anchor=\"middle\" x=\"462.5\" y=\"-86\">reference.VirusSource</text>\n",
       "</a>\n",
       "</g>\n",
       "</g>\n",
       "<!-- reference.Virus -->\n",
       "<g class=\"node\" id=\"node7\">\n",
       "<title>reference.Virus</title>\n",
       "<g id=\"a_node7\"><a xlink:title=\"virus_name           \r",
       "------------------------------\r",
       "→ reference.VirusSource\r",
       "virus_lot_number=null \r",
       "virus_titer=null     \r",
       "\">\n",
       "<polygon fill=\"#000000\" fill-opacity=\"0.125490\" points=\"504,-35 421,-35 421,0 504,0 504,-35\" stroke=\"transparent\"/>\n",
       "<text fill=\"#000000\" font-family=\"arial\" font-size=\"10.00\" text-anchor=\"middle\" x=\"462.5\" y=\"-15\">reference.Virus</text>\n",
       "</a>\n",
       "</g>\n",
       "</g>\n",
       "<!-- reference.VirusSource&#45;&gt;reference.Virus -->\n",
       "<g class=\"edge\" id=\"edge1\">\n",
       "<title>reference.VirusSource-&gt;reference.Virus</title>\n",
       "<path d=\"M462.5,-70.9494C462.5,-60.1083 462.5,-46.2366 462.5,-35.3418\" fill=\"none\" stroke=\"#000000\" stroke-dasharray=\"5,2\" stroke-opacity=\"0.250980\" stroke-width=\".75\"/>\n",
       "</g>\n",
       "<!-- reference.BrainLocation -->\n",
       "<g class=\"node\" id=\"node5\">\n",
       "<title>reference.BrainLocation</title>\n",
       "<g id=\"a_node5\"><a xlink:title=\"brain_location_name  \r",
       "------------------------------\r",
       "brain_location_full_name \r",
       "\">\n",
       "<polygon fill=\"#000000\" fill-opacity=\"0.125490\" points=\"656,-106 537,-106 537,-71 656,-71 656,-106\" stroke=\"transparent\"/>\n",
       "<text fill=\"#000000\" font-family=\"arial\" font-size=\"10.00\" text-anchor=\"middle\" x=\"596.5\" y=\"-86\">reference.BrainLocation</text>\n",
       "</a>\n",
       "</g>\n",
       "</g>\n",
       "<!-- reference.Whisker -->\n",
       "<g class=\"node\" id=\"node6\">\n",
       "<title>reference.Whisker</title>\n",
       "<g id=\"a_node6\"><a xlink:title=\"whisker_config       \r",
       "\">\n",
       "<polygon fill=\"#000000\" fill-opacity=\"0.125490\" points=\"769,-106 674,-106 674,-71 769,-71 769,-106\" stroke=\"transparent\"/>\n",
       "<text fill=\"#000000\" font-family=\"arial\" font-size=\"10.00\" text-anchor=\"middle\" x=\"721.5\" y=\"-86\">reference.Whisker</text>\n",
       "</a>\n",
       "</g>\n",
       "</g>\n",
       "<!-- reference.CoordinateReference -->\n",
       "<g class=\"node\" id=\"node8\">\n",
       "<title>reference.CoordinateReference</title>\n",
       "<g id=\"a_node8\"><a xlink:title=\"coordinate_ref       \r",
       "\">\n",
       "<polygon fill=\"#000000\" fill-opacity=\"0.125490\" points=\"938,-106 787,-106 787,-71 938,-71 938,-106\" stroke=\"transparent\"/>\n",
       "<text fill=\"#000000\" font-family=\"arial\" font-size=\"10.00\" text-anchor=\"middle\" x=\"862.5\" y=\"-86\">reference.CoordinateReference</text>\n",
       "</a>\n",
       "</g>\n",
       "</g>\n",
       "<!-- reference.ProbeSource -->\n",
       "<g class=\"node\" id=\"node9\">\n",
       "<title>reference.ProbeSource</title>\n",
       "<g id=\"a_node9\"><a xlink:title=\"probe_source_name    \r",
       "------------------------------\r",
       "number_of_channels   \r",
       "\">\n",
       "<polygon fill=\"#000000\" fill-opacity=\"0.125490\" points=\"1072.5,-106 956.5,-106 956.5,-71 1072.5,-71 1072.5,-106\" stroke=\"transparent\"/>\n",
       "<text fill=\"#000000\" font-family=\"arial\" font-size=\"10.00\" text-anchor=\"middle\" x=\"1014.5\" y=\"-86\">reference.ProbeSource</text>\n",
       "</a>\n",
       "</g>\n",
       "</g>\n",
       "</g>\n",
       "</svg>"
      ],
      "text/plain": [
       "<datajoint.erd.ERD at 0x7f451e036c18>"
      ]
     },
     "execution_count": 2,
     "metadata": {},
     "output_type": "execute_result"
    }
   ],
   "source": [
    "dj.ERD(reference)"
   ]
  },
  {
   "cell_type": "markdown",
   "metadata": {},
   "source": [
    "# Subject"
   ]
  },
  {
   "cell_type": "code",
   "execution_count": 3,
   "metadata": {},
   "outputs": [
    {
     "data": {
      "image/svg+xml": [
       "<svg height=\"185pt\" viewBox=\"0.00 0.00 239.00 185.00\" width=\"239pt\" xmlns=\"http://www.w3.org/2000/svg\" xmlns:xlink=\"http://www.w3.org/1999/xlink\">\n",
       "<g class=\"graph\" id=\"graph0\" transform=\"scale(1 1) rotate(0) translate(4 181)\">\n",
       "<title>%3</title>\n",
       "<polygon fill=\"#ffffff\" points=\"-4,4 -4,-181 235,-181 235,4 -4,4\" stroke=\"transparent\"/>\n",
       "<!-- subject.Strain -->\n",
       "<g class=\"node\" id=\"node1\">\n",
       "<title>subject.Strain</title>\n",
       "<g id=\"a_node1\"><a xlink:title=\"strain_id            \r",
       "\">\n",
       "<polygon fill=\"#000000\" fill-opacity=\"0.125490\" points=\"77,-177 0,-177 0,-142 77,-142 77,-177\" stroke=\"transparent\"/>\n",
       "<text fill=\"#000000\" font-family=\"arial\" font-size=\"10.00\" text-anchor=\"middle\" x=\"38.5\" y=\"-157\">subject.Strain</text>\n",
       "</a>\n",
       "</g>\n",
       "</g>\n",
       "<!-- subject.Subject -->\n",
       "<g class=\"node\" id=\"node4\">\n",
       "<title>subject.Subject</title>\n",
       "<g id=\"a_node4\"><a xlink:title=\"subject_id           \r",
       "------------------------------\r",
       "→ subject.Species\r",
       "→ subject.Strain\r",
       "→ reference.AnimalSource\r",
       "sex                  \r",
       "date_of_birth        \r",
       "\">\n",
       "<polygon fill=\"#00ff00\" fill-opacity=\"0.188235\" points=\"137.5,-106 39.5,-106 39.5,-71 137.5,-71 137.5,-106\" stroke=\"#00ff00\" stroke-opacity=\"0.188235\"/>\n",
       "<text fill=\"#006400\" font-family=\"arial\" font-size=\"12.00\" text-anchor=\"middle\" x=\"88.5\" y=\"-85.4\">subject.Subject</text>\n",
       "</a>\n",
       "</g>\n",
       "</g>\n",
       "<!-- subject.Strain&#45;&gt;subject.Subject -->\n",
       "<g class=\"edge\" id=\"edge1\">\n",
       "<title>subject.Strain-&gt;subject.Subject</title>\n",
       "<path d=\"M50.8596,-141.9494C58.4941,-131.1083 68.263,-117.2366 75.9353,-106.3418\" fill=\"none\" stroke=\"#000000\" stroke-dasharray=\"5,2\" stroke-opacity=\"0.250980\" stroke-width=\".75\"/>\n",
       "</g>\n",
       "<!-- subject.Species -->\n",
       "<g class=\"node\" id=\"node2\">\n",
       "<title>subject.Species</title>\n",
       "<g id=\"a_node2\"><a xlink:title=\"species_name         \r",
       "\">\n",
       "<polygon fill=\"#000000\" fill-opacity=\"0.125490\" points=\"181.5,-177 95.5,-177 95.5,-142 181.5,-142 181.5,-177\" stroke=\"transparent\"/>\n",
       "<text fill=\"#000000\" font-family=\"arial\" font-size=\"10.00\" text-anchor=\"middle\" x=\"138.5\" y=\"-157\">subject.Species</text>\n",
       "</a>\n",
       "</g>\n",
       "</g>\n",
       "<!-- subject.Species&#45;&gt;subject.Subject -->\n",
       "<g class=\"edge\" id=\"edge2\">\n",
       "<title>subject.Species-&gt;subject.Subject</title>\n",
       "<path d=\"M126.1404,-141.9494C118.5059,-131.1083 108.737,-117.2366 101.0647,-106.3418\" fill=\"none\" stroke=\"#000000\" stroke-dasharray=\"5,2\" stroke-opacity=\"0.250980\" stroke-width=\".75\"/>\n",
       "</g>\n",
       "<!-- subject.SubjectAllele -->\n",
       "<g class=\"node\" id=\"node3\">\n",
       "<title>subject.SubjectAllele</title>\n",
       "<g id=\"a_node3\"><a xlink:title=\"→ subject.Subject\r",
       "→ subject.Allele\r",
       "------------------------------\r",
       "zygosity             \r",
       "\">\n",
       "<polygon fill=\"#00ff00\" fill-opacity=\"0.188235\" points=\"205,-35 76,-35 76,0 205,0 205,-35\" stroke=\"#00ff00\" stroke-opacity=\"0.188235\"/>\n",
       "<text fill=\"#006400\" font-family=\"arial\" font-size=\"12.00\" text-anchor=\"middle\" x=\"140.5\" y=\"-14.4\">subject.SubjectAllele</text>\n",
       "</a>\n",
       "</g>\n",
       "</g>\n",
       "<!-- subject.Subject&#45;&gt;subject.SubjectAllele -->\n",
       "<g class=\"edge\" id=\"edge3\">\n",
       "<title>subject.Subject-&gt;subject.SubjectAllele</title>\n",
       "<path d=\"M101.3539,-70.9494C109.2939,-60.1083 119.4535,-46.2366 127.4327,-35.3418\" fill=\"none\" stroke=\"#000000\" stroke-opacity=\"0.250980\" stroke-width=\".75\"/>\n",
       "</g>\n",
       "<!-- subject.Allele -->\n",
       "<g class=\"node\" id=\"node5\">\n",
       "<title>subject.Allele</title>\n",
       "<g id=\"a_node5\"><a xlink:title=\"allele_name          \r",
       "\">\n",
       "<polygon fill=\"#000000\" fill-opacity=\"0.125490\" points=\"231,-106 156,-106 156,-71 231,-71 231,-106\" stroke=\"transparent\"/>\n",
       "<text fill=\"#000000\" font-family=\"arial\" font-size=\"10.00\" text-anchor=\"middle\" x=\"193.5\" y=\"-86\">subject.Allele</text>\n",
       "</a>\n",
       "</g>\n",
       "</g>\n",
       "<!-- subject.Allele&#45;&gt;subject.SubjectAllele -->\n",
       "<g class=\"edge\" id=\"edge4\">\n",
       "<title>subject.Allele-&gt;subject.SubjectAllele</title>\n",
       "<path d=\"M180.3989,-70.9494C172.3062,-60.1083 161.9512,-46.2366 153.8185,-35.3418\" fill=\"none\" stroke=\"#000000\" stroke-opacity=\"0.250980\" stroke-width=\".75\"/>\n",
       "</g>\n",
       "</g>\n",
       "</svg>"
      ],
      "text/plain": [
       "<datajoint.erd.ERD at 0x7f451d8db550>"
      ]
     },
     "execution_count": 3,
     "metadata": {},
     "output_type": "execute_result"
    }
   ],
   "source": [
    "dj.ERD(subject)"
   ]
  },
  {
   "cell_type": "markdown",
   "metadata": {},
   "source": [
    "# Action"
   ]
  },
  {
   "cell_type": "code",
   "execution_count": 4,
   "metadata": {},
   "outputs": [
    {
     "data": {
      "image/svg+xml": [
       "<svg height=\"43pt\" viewBox=\"0.00 0.00 403.00 43.00\" width=\"403pt\" xmlns=\"http://www.w3.org/2000/svg\" xmlns:xlink=\"http://www.w3.org/1999/xlink\">\n",
       "<g class=\"graph\" id=\"graph0\" transform=\"scale(1 1) rotate(0) translate(4 39)\">\n",
       "<title>%3</title>\n",
       "<polygon fill=\"#ffffff\" points=\"-4,4 -4,-39 399,-39 399,4 -4,4\" stroke=\"transparent\"/>\n",
       "<!-- action.Weighing -->\n",
       "<g class=\"node\" id=\"node1\">\n",
       "<title>action.Weighing</title>\n",
       "<g id=\"a_node1\"><a xlink:title=\"→ subject.Subject\r",
       "------------------------------\r",
       "weight_before        \r",
       "weight_after         \r",
       "\">\n",
       "<polygon fill=\"#00ff00\" fill-opacity=\"0.188235\" points=\"103,-35 0,-35 0,0 103,0 103,-35\" stroke=\"#00ff00\" stroke-opacity=\"0.188235\"/>\n",
       "<text fill=\"#006400\" font-family=\"arial\" font-size=\"12.00\" text-anchor=\"middle\" x=\"51.5\" y=\"-14.4\">action.Weighing</text>\n",
       "</a>\n",
       "</g>\n",
       "</g>\n",
       "<!-- action.WhiskerConfig -->\n",
       "<g class=\"node\" id=\"node2\">\n",
       "<title>action.WhiskerConfig</title>\n",
       "<g id=\"a_node2\"><a xlink:title=\"→ subject.Subject\r",
       "------------------------------\r",
       "→ reference.Whisker\r",
       "\">\n",
       "<polygon fill=\"#00ff00\" fill-opacity=\"0.188235\" points=\"252,-35 121,-35 121,0 252,0 252,-35\" stroke=\"#00ff00\" stroke-opacity=\"0.188235\"/>\n",
       "<text fill=\"#006400\" font-family=\"arial\" font-size=\"12.00\" text-anchor=\"middle\" x=\"186.5\" y=\"-14.4\">action.WhiskerConfig</text>\n",
       "</a>\n",
       "</g>\n",
       "</g>\n",
       "<!-- action.VirusInjection -->\n",
       "<g class=\"node\" id=\"node3\">\n",
       "<title>action.VirusInjection</title>\n",
       "<g id=\"a_node3\"><a xlink:title=\"→ subject.Subject\r",
       "→ reference.Virus\r",
       "→ reference.BrainLocation\r",
       "→ reference.Hemisphere\r",
       "injection_date       \r",
       "------------------------------\r",
       "injection_volume     \r",
       "injection_coordinate_ap \r",
       "injection_coordinate_ml \r",
       "injection_coordinate_dv \r",
       "→ reference.CoordinateReference.proj(injection_coordinate_ref=&quot;coordinate_ref&quot;)\r",
       "\">\n",
       "<polygon fill=\"#00ff00\" fill-opacity=\"0.188235\" points=\"395,-35 270,-35 270,0 395,0 395,-35\" stroke=\"#00ff00\" stroke-opacity=\"0.188235\"/>\n",
       "<text fill=\"#006400\" font-family=\"arial\" font-size=\"12.00\" text-anchor=\"middle\" x=\"332.5\" y=\"-14.4\">action.VirusInjection</text>\n",
       "</a>\n",
       "</g>\n",
       "</g>\n",
       "</g>\n",
       "</svg>"
      ],
      "text/plain": [
       "<datajoint.erd.ERD at 0x7f451d822198>"
      ]
     },
     "execution_count": 4,
     "metadata": {},
     "output_type": "execute_result"
    }
   ],
   "source": [
    "dj.ERD(action)"
   ]
  },
  {
   "cell_type": "markdown",
   "metadata": {},
   "source": [
    "# Acquisition"
   ]
  },
  {
   "cell_type": "code",
   "execution_count": 5,
   "metadata": {},
   "outputs": [
    {
     "data": {
      "image/svg+xml": [
       "<svg height=\"98pt\" viewBox=\"0.00 0.00 474.00 98.00\" width=\"474pt\" xmlns=\"http://www.w3.org/2000/svg\" xmlns:xlink=\"http://www.w3.org/1999/xlink\">\n",
       "<g class=\"graph\" id=\"graph0\" transform=\"scale(1 1) rotate(0) translate(4 94)\">\n",
       "<title>%3</title>\n",
       "<polygon fill=\"#ffffff\" points=\"-4,4 -4,-94 470,-94 470,4 -4,4\" stroke=\"transparent\"/>\n",
       "<!-- acquisition.PhotoStim -->\n",
       "<g class=\"node\" id=\"node1\">\n",
       "<title>acquisition.PhotoStim</title>\n",
       "<g id=\"a_node1\"><a xlink:title=\"photo_stim_id        \r",
       "------------------------------\r",
       "photo_stim_wavelength \r",
       "photo_stim_method    \r",
       "→ reference.BrainLocation.proj(photo_stim_location=&quot;brain_location_name&quot;)\r",
       "→ reference.Hemisphere.proj(photo_stim_hemisphere=&quot;hemisphere_name&quot;)\r",
       "→ reference.CoordinateReference.proj(photo_stim_coordinate_ref=&quot;coordinate_ref&quot;)\r",
       "photo_stim_coordinate_ap \r",
       "photo_stim_coordinate_ml \r",
       "photo_stim_coordinate_dv \r",
       "\">\n",
       "<polygon fill=\"#00ff00\" fill-opacity=\"0.188235\" points=\"133,-90 0,-90 0,-55 133,-55 133,-90\" stroke=\"#00ff00\" stroke-opacity=\"0.188235\"/>\n",
       "<text fill=\"#006400\" font-family=\"arial\" font-size=\"12.00\" text-anchor=\"middle\" x=\"66.5\" y=\"-69.4\">acquisition.PhotoStim</text>\n",
       "</a>\n",
       "</g>\n",
       "</g>\n",
       "<!-- acquisition.Session.Experimenter -->\n",
       "<g class=\"node\" id=\"node2\">\n",
       "<title>acquisition.Session.Experimenter</title>\n",
       "<g id=\"a_node2\"><a xlink:title=\"→ acquisition.Session\r",
       "→ reference.Experimenter\r",
       "\">\n",
       "<polygon fill=\"transparent\" points=\"272.5,-19 110.5,-19 110.5,0 272.5,0 272.5,-19\" stroke=\"transparent\"/>\n",
       "<text fill=\"#000000\" font-family=\"arial\" font-size=\"10.00\" text-anchor=\"middle\" x=\"191.5\" y=\"-7\">acquisition.Session.Experimenter</text>\n",
       "</a>\n",
       "</g>\n",
       "</g>\n",
       "<!-- acquisition.Session -->\n",
       "<g class=\"node\" id=\"node3\">\n",
       "<title>acquisition.Session</title>\n",
       "<g id=\"a_node3\"><a xlink:title=\"→ subject.Subject\r",
       "session_time         \r",
       "------------------------------\r",
       "session_directory    \r",
       "session_note         \r",
       "\">\n",
       "<polygon fill=\"#00ff00\" fill-opacity=\"0.188235\" points=\"272,-90 151,-90 151,-55 272,-55 272,-90\" stroke=\"#00ff00\" stroke-opacity=\"0.188235\"/>\n",
       "<text fill=\"#006400\" font-family=\"arial\" font-size=\"12.00\" text-anchor=\"middle\" x=\"211.5\" y=\"-69.4\">acquisition.Session</text>\n",
       "</a>\n",
       "</g>\n",
       "</g>\n",
       "<!-- acquisition.Session&#45;&gt;acquisition.Session.Experimenter -->\n",
       "<g class=\"edge\" id=\"edge1\">\n",
       "<title>acquisition.Session-&gt;acquisition.Session.Experimenter</title>\n",
       "<path d=\"M205.9289,-54.951C202.2765,-43.4459 197.6362,-28.8292 194.6188,-19.3243\" fill=\"none\" stroke=\"#000000\" stroke-opacity=\"0.250980\" stroke-width=\".75\"/>\n",
       "</g>\n",
       "<!-- acquisition.Session.ExperimentType -->\n",
       "<g class=\"node\" id=\"node4\">\n",
       "<title>acquisition.Session.ExperimentType</title>\n",
       "<g id=\"a_node4\"><a xlink:title=\"→ acquisition.Session\r",
       "→ acquisition.ExperimentType\r",
       "\">\n",
       "<polygon fill=\"transparent\" points=\"466,-19 291,-19 291,0 466,0 466,-19\" stroke=\"transparent\"/>\n",
       "<text fill=\"#000000\" font-family=\"arial\" font-size=\"10.00\" text-anchor=\"middle\" x=\"378.5\" y=\"-7\">acquisition.Session.ExperimentType</text>\n",
       "</a>\n",
       "</g>\n",
       "</g>\n",
       "<!-- acquisition.Session&#45;&gt;acquisition.Session.ExperimentType -->\n",
       "<g class=\"edge\" id=\"edge2\">\n",
       "<title>acquisition.Session-&gt;acquisition.Session.ExperimentType</title>\n",
       "<path d=\"M258.0188,-54.951C288.7095,-43.3731 327.7531,-28.644 352.9346,-19.1444\" fill=\"none\" stroke=\"#000000\" stroke-opacity=\"0.250980\" stroke-width=\".75\"/>\n",
       "</g>\n",
       "<!-- acquisition.ExperimentType -->\n",
       "<g class=\"node\" id=\"node5\">\n",
       "<title>acquisition.ExperimentType</title>\n",
       "<g id=\"a_node5\"><a xlink:title=\"experiment_type_name \r",
       "\">\n",
       "<polygon fill=\"#000000\" fill-opacity=\"0.125490\" points=\"447,-90 310,-90 310,-55 447,-55 447,-90\" stroke=\"transparent\"/>\n",
       "<text fill=\"#000000\" font-family=\"arial\" font-size=\"10.00\" text-anchor=\"middle\" x=\"378.5\" y=\"-70\">acquisition.ExperimentType</text>\n",
       "</a>\n",
       "</g>\n",
       "</g>\n",
       "<!-- acquisition.ExperimentType&#45;&gt;acquisition.Session.ExperimentType -->\n",
       "<g class=\"edge\" id=\"edge3\">\n",
       "<title>acquisition.ExperimentType-&gt;acquisition.Session.ExperimentType</title>\n",
       "<path d=\"M378.5,-54.951C378.5,-43.4459 378.5,-28.8292 378.5,-19.3243\" fill=\"none\" stroke=\"#000000\" stroke-opacity=\"0.250980\" stroke-width=\".75\"/>\n",
       "</g>\n",
       "</g>\n",
       "</svg>"
      ],
      "text/plain": [
       "<datajoint.erd.ERD at 0x7f451d81e9e8>"
      ]
     },
     "execution_count": 5,
     "metadata": {},
     "output_type": "execute_result"
    }
   ],
   "source": [
    "dj.ERD(acquisition)"
   ]
  },
  {
   "cell_type": "markdown",
   "metadata": {},
   "source": [
    "# All Combined"
   ]
  },
  {
   "cell_type": "code",
   "execution_count": 8,
   "metadata": {},
   "outputs": [],
   "source": [
    "all_erd = dj.ERD(reference) + dj.ERD(subject) + dj.ERD(action) + dj.ERD(acquisition)\n"
   ]
  },
  {
   "cell_type": "code",
   "execution_count": null,
   "metadata": {},
   "outputs": [],
   "source": [
    "all_erd.save('/images/all_erd.png')"
   ]
  }
 ],
 "metadata": {
  "kernelspec": {
   "display_name": "Python 3",
   "language": "python",
   "name": "python3"
  },
  "language_info": {
   "codemirror_mode": {
    "name": "ipython",
    "version": 3
   },
   "file_extension": ".py",
   "mimetype": "text/x-python",
   "name": "python",
   "nbconvert_exporter": "python",
   "pygments_lexer": "ipython3",
   "version": "3.6.6"
  }
 },
 "nbformat": 4,
 "nbformat_minor": 2
}
