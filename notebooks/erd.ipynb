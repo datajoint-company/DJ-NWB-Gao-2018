{
 "cells": [
  {
   "cell_type": "code",
   "execution_count": 1,
   "metadata": {},
   "outputs": [
    {
     "name": "stdout",
     "output_type": "stream",
     "text": [
      "Connecting root@db_gao2018:3306\n"
     ]
    }
   ],
   "source": [
    "import datajoint as dj\n",
    "from pipeline import reference, subject, action, acquisition"
   ]
  },
  {
   "cell_type": "markdown",
   "metadata": {},
   "source": [
    "# Reference"
   ]
  },
  {
   "cell_type": "code",
   "execution_count": 2,
   "metadata": {},
   "outputs": [
    {
     "data": {
      "image/svg+xml": [
       "<svg height=\"114pt\" viewBox=\"0.00 0.00 1279.00 114.00\" width=\"1279pt\" xmlns=\"http://www.w3.org/2000/svg\" xmlns:xlink=\"http://www.w3.org/1999/xlink\">\n",
       "<g class=\"graph\" id=\"graph0\" transform=\"scale(1 1) rotate(0) translate(4 110)\">\n",
       "<title>%3</title>\n",
       "<polygon fill=\"#ffffff\" points=\"-4,4 -4,-110 1275,-110 1275,4 -4,4\" stroke=\"transparent\"/>\n",
       "<!-- `gao2018_reference`.`#whisker` -->\n",
       "<g class=\"node\" id=\"node1\">\n",
       "<title>`gao2018_reference`.`#whisker`</title>\n",
       "<polygon fill=\"#000000\" fill-opacity=\"0.125490\" points=\"152,-106 0,-106 0,-71 152,-71 152,-106\" stroke=\"transparent\"/>\n",
       "<text fill=\"#000000\" font-family=\"arial\" font-size=\"10.00\" text-anchor=\"middle\" x=\"76\" y=\"-86\">`gao2018_reference`.`#whisker`</text>\n",
       "</g>\n",
       "<!-- reference.Hemisphere -->\n",
       "<g class=\"node\" id=\"node2\">\n",
       "<title>reference.Hemisphere</title>\n",
       "<g id=\"a_node2\"><a xlink:title=\"hemisphere_name      \r",
       "\">\n",
       "<polygon fill=\"#000000\" fill-opacity=\"0.125490\" points=\"282,-106 170,-106 170,-71 282,-71 282,-106\" stroke=\"transparent\"/>\n",
       "<text fill=\"#000000\" font-family=\"arial\" font-size=\"10.00\" text-anchor=\"middle\" x=\"226\" y=\"-86\">reference.Hemisphere</text>\n",
       "</a>\n",
       "</g>\n",
       "</g>\n",
       "<!-- reference.VirusSource -->\n",
       "<g class=\"node\" id=\"node3\">\n",
       "<title>reference.VirusSource</title>\n",
       "<g id=\"a_node3\"><a xlink:title=\"virus_source_name    \r",
       "\">\n",
       "<polygon fill=\"#000000\" fill-opacity=\"0.125490\" points=\"413.5,-106 300.5,-106 300.5,-71 413.5,-71 413.5,-106\" stroke=\"transparent\"/>\n",
       "<text fill=\"#000000\" font-family=\"arial\" font-size=\"10.00\" text-anchor=\"middle\" x=\"357\" y=\"-86\">reference.VirusSource</text>\n",
       "</a>\n",
       "</g>\n",
       "</g>\n",
       "<!-- reference.Virus -->\n",
       "<g class=\"node\" id=\"node9\">\n",
       "<title>reference.Virus</title>\n",
       "<g id=\"a_node9\"><a xlink:title=\"virus_name           \r",
       "------------------------------\r",
       "→ reference.VirusSource\r",
       "virus_lot_number=null \r",
       "virus_titer=null     \r",
       "\">\n",
       "<polygon fill=\"#000000\" fill-opacity=\"0.125490\" points=\"398.5,-35 315.5,-35 315.5,0 398.5,0 398.5,-35\" stroke=\"transparent\"/>\n",
       "<text fill=\"#000000\" font-family=\"arial\" font-size=\"10.00\" text-anchor=\"middle\" x=\"357\" y=\"-15\">reference.Virus</text>\n",
       "</a>\n",
       "</g>\n",
       "</g>\n",
       "<!-- reference.VirusSource&#45;&gt;reference.Virus -->\n",
       "<g class=\"edge\" id=\"edge1\">\n",
       "<title>reference.VirusSource-&gt;reference.Virus</title>\n",
       "<path d=\"M357,-70.9494C357,-60.1083 357,-46.2366 357,-35.3418\" fill=\"none\" stroke=\"#000000\" stroke-dasharray=\"5,2\" stroke-opacity=\"0.250980\" stroke-width=\".75\"/>\n",
       "</g>\n",
       "<!-- reference.AnimalSource -->\n",
       "<g class=\"node\" id=\"node4\">\n",
       "<title>reference.AnimalSource</title>\n",
       "<g id=\"a_node4\"><a xlink:title=\"animal_source_name   \r",
       "\">\n",
       "<polygon fill=\"#000000\" fill-opacity=\"0.125490\" points=\"552.5,-106 431.5,-106 431.5,-71 552.5,-71 552.5,-106\" stroke=\"transparent\"/>\n",
       "<text fill=\"#000000\" font-family=\"arial\" font-size=\"10.00\" text-anchor=\"middle\" x=\"492\" y=\"-86\">reference.AnimalSource</text>\n",
       "</a>\n",
       "</g>\n",
       "</g>\n",
       "<!-- reference.Experimenter -->\n",
       "<g class=\"node\" id=\"node5\">\n",
       "<title>reference.Experimenter</title>\n",
       "<g id=\"a_node5\"><a xlink:title=\"experimenter_name    \r",
       "\">\n",
       "<polygon fill=\"#000000\" fill-opacity=\"0.125490\" points=\"689,-106 571,-106 571,-71 689,-71 689,-106\" stroke=\"transparent\"/>\n",
       "<text fill=\"#000000\" font-family=\"arial\" font-size=\"10.00\" text-anchor=\"middle\" x=\"630\" y=\"-86\">reference.Experimenter</text>\n",
       "</a>\n",
       "</g>\n",
       "</g>\n",
       "<!-- reference.BrainLocation -->\n",
       "<g class=\"node\" id=\"node6\">\n",
       "<title>reference.BrainLocation</title>\n",
       "<g id=\"a_node6\"><a xlink:title=\"brain_location_name  \r",
       "------------------------------\r",
       "brain_location_full_name \r",
       "\">\n",
       "<polygon fill=\"#000000\" fill-opacity=\"0.125490\" points=\"826.5,-106 707.5,-106 707.5,-71 826.5,-71 826.5,-106\" stroke=\"transparent\"/>\n",
       "<text fill=\"#000000\" font-family=\"arial\" font-size=\"10.00\" text-anchor=\"middle\" x=\"767\" y=\"-86\">reference.BrainLocation</text>\n",
       "</a>\n",
       "</g>\n",
       "</g>\n",
       "<!-- reference.CoordinateReference -->\n",
       "<g class=\"node\" id=\"node7\">\n",
       "<title>reference.CoordinateReference</title>\n",
       "<g id=\"a_node7\"><a xlink:title=\"coordinate_ref       \r",
       "\">\n",
       "<polygon fill=\"#000000\" fill-opacity=\"0.125490\" points=\"995.5,-106 844.5,-106 844.5,-71 995.5,-71 995.5,-106\" stroke=\"transparent\"/>\n",
       "<text fill=\"#000000\" font-family=\"arial\" font-size=\"10.00\" text-anchor=\"middle\" x=\"920\" y=\"-86\">reference.CoordinateReference</text>\n",
       "</a>\n",
       "</g>\n",
       "</g>\n",
       "<!-- reference.WhiskerConfig -->\n",
       "<g class=\"node\" id=\"node8\">\n",
       "<title>reference.WhiskerConfig</title>\n",
       "<g id=\"a_node8\"><a xlink:title=\"whisker_config       \r",
       "\">\n",
       "<polygon fill=\"#000000\" fill-opacity=\"0.125490\" points=\"1136.5,-106 1013.5,-106 1013.5,-71 1136.5,-71 1136.5,-106\" stroke=\"transparent\"/>\n",
       "<text fill=\"#000000\" font-family=\"arial\" font-size=\"10.00\" text-anchor=\"middle\" x=\"1075\" y=\"-86\">reference.WhiskerConfig</text>\n",
       "</a>\n",
       "</g>\n",
       "</g>\n",
       "<!-- reference.ProbeSource -->\n",
       "<g class=\"node\" id=\"node10\">\n",
       "<title>reference.ProbeSource</title>\n",
       "<g id=\"a_node10\"><a xlink:title=\"probe_source_name    \r",
       "------------------------------\r",
       "number_of_channels   \r",
       "\">\n",
       "<polygon fill=\"#000000\" fill-opacity=\"0.125490\" points=\"1271,-106 1155,-106 1155,-71 1271,-71 1271,-106\" stroke=\"transparent\"/>\n",
       "<text fill=\"#000000\" font-family=\"arial\" font-size=\"10.00\" text-anchor=\"middle\" x=\"1213\" y=\"-86\">reference.ProbeSource</text>\n",
       "</a>\n",
       "</g>\n",
       "</g>\n",
       "</g>\n",
       "</svg>"
      ],
      "text/plain": [
       "<datajoint.erd.ERD at 0x7f646be85048>"
      ]
     },
     "execution_count": 2,
     "metadata": {},
     "output_type": "execute_result"
    }
   ],
   "source": [
    "dj.ERD(reference)"
   ]
  },
  {
   "cell_type": "markdown",
   "metadata": {},
   "source": [
    "# Subject"
   ]
  },
  {
   "cell_type": "code",
   "execution_count": 3,
   "metadata": {},
   "outputs": [
    {
     "data": {
      "image/svg+xml": [
       "<svg height=\"185pt\" viewBox=\"0.00 0.00 239.00 185.00\" width=\"239pt\" xmlns=\"http://www.w3.org/2000/svg\" xmlns:xlink=\"http://www.w3.org/1999/xlink\">\n",
       "<g class=\"graph\" id=\"graph0\" transform=\"scale(1 1) rotate(0) translate(4 181)\">\n",
       "<title>%3</title>\n",
       "<polygon fill=\"#ffffff\" points=\"-4,4 -4,-181 235,-181 235,4 -4,4\" stroke=\"transparent\"/>\n",
       "<!-- subject.SubjectAllele -->\n",
       "<g class=\"node\" id=\"node1\">\n",
       "<title>subject.SubjectAllele</title>\n",
       "<g id=\"a_node1\"><a xlink:title=\"→ subject.Subject\r",
       "→ subject.Allele\r",
       "------------------------------\r",
       "zygosity             \r",
       "\">\n",
       "<polygon fill=\"#00ff00\" fill-opacity=\"0.188235\" points=\"205,-35 76,-35 76,0 205,0 205,-35\" stroke=\"#00ff00\" stroke-opacity=\"0.188235\"/>\n",
       "<text fill=\"#006400\" font-family=\"arial\" font-size=\"12.00\" text-anchor=\"middle\" x=\"140.5\" y=\"-14.4\">subject.SubjectAllele</text>\n",
       "</a>\n",
       "</g>\n",
       "</g>\n",
       "<!-- subject.Subject -->\n",
       "<g class=\"node\" id=\"node2\">\n",
       "<title>subject.Subject</title>\n",
       "<g id=\"a_node2\"><a xlink:title=\"subject_id           \r",
       "------------------------------\r",
       "→ subject.Species\r",
       "→ subject.Strain\r",
       "→ reference.AnimalSource\r",
       "sex                  \r",
       "date_of_birth        \r",
       "\">\n",
       "<polygon fill=\"#00ff00\" fill-opacity=\"0.188235\" points=\"137.5,-106 39.5,-106 39.5,-71 137.5,-71 137.5,-106\" stroke=\"#00ff00\" stroke-opacity=\"0.188235\"/>\n",
       "<text fill=\"#006400\" font-family=\"arial\" font-size=\"12.00\" text-anchor=\"middle\" x=\"88.5\" y=\"-85.4\">subject.Subject</text>\n",
       "</a>\n",
       "</g>\n",
       "</g>\n",
       "<!-- subject.Subject&#45;&gt;subject.SubjectAllele -->\n",
       "<g class=\"edge\" id=\"edge1\">\n",
       "<title>subject.Subject-&gt;subject.SubjectAllele</title>\n",
       "<path d=\"M101.3539,-70.9494C109.2939,-60.1083 119.4535,-46.2366 127.4327,-35.3418\" fill=\"none\" stroke=\"#000000\" stroke-opacity=\"0.250980\" stroke-width=\".75\"/>\n",
       "</g>\n",
       "<!-- subject.Strain -->\n",
       "<g class=\"node\" id=\"node3\">\n",
       "<title>subject.Strain</title>\n",
       "<g id=\"a_node3\"><a xlink:title=\"strain_id            \r",
       "\">\n",
       "<polygon fill=\"#000000\" fill-opacity=\"0.125490\" points=\"77,-177 0,-177 0,-142 77,-142 77,-177\" stroke=\"transparent\"/>\n",
       "<text fill=\"#000000\" font-family=\"arial\" font-size=\"10.00\" text-anchor=\"middle\" x=\"38.5\" y=\"-157\">subject.Strain</text>\n",
       "</a>\n",
       "</g>\n",
       "</g>\n",
       "<!-- subject.Strain&#45;&gt;subject.Subject -->\n",
       "<g class=\"edge\" id=\"edge2\">\n",
       "<title>subject.Strain-&gt;subject.Subject</title>\n",
       "<path d=\"M50.8596,-141.9494C58.4941,-131.1083 68.263,-117.2366 75.9353,-106.3418\" fill=\"none\" stroke=\"#000000\" stroke-dasharray=\"5,2\" stroke-opacity=\"0.250980\" stroke-width=\".75\"/>\n",
       "</g>\n",
       "<!-- subject.Species -->\n",
       "<g class=\"node\" id=\"node4\">\n",
       "<title>subject.Species</title>\n",
       "<g id=\"a_node4\"><a xlink:title=\"species_name         \r",
       "\">\n",
       "<polygon fill=\"#000000\" fill-opacity=\"0.125490\" points=\"181.5,-177 95.5,-177 95.5,-142 181.5,-142 181.5,-177\" stroke=\"transparent\"/>\n",
       "<text fill=\"#000000\" font-family=\"arial\" font-size=\"10.00\" text-anchor=\"middle\" x=\"138.5\" y=\"-157\">subject.Species</text>\n",
       "</a>\n",
       "</g>\n",
       "</g>\n",
       "<!-- subject.Species&#45;&gt;subject.Subject -->\n",
       "<g class=\"edge\" id=\"edge3\">\n",
       "<title>subject.Species-&gt;subject.Subject</title>\n",
       "<path d=\"M126.1404,-141.9494C118.5059,-131.1083 108.737,-117.2366 101.0647,-106.3418\" fill=\"none\" stroke=\"#000000\" stroke-dasharray=\"5,2\" stroke-opacity=\"0.250980\" stroke-width=\".75\"/>\n",
       "</g>\n",
       "<!-- subject.Allele -->\n",
       "<g class=\"node\" id=\"node5\">\n",
       "<title>subject.Allele</title>\n",
       "<g id=\"a_node5\"><a xlink:title=\"allele_name          \r",
       "\">\n",
       "<polygon fill=\"#000000\" fill-opacity=\"0.125490\" points=\"231,-106 156,-106 156,-71 231,-71 231,-106\" stroke=\"transparent\"/>\n",
       "<text fill=\"#000000\" font-family=\"arial\" font-size=\"10.00\" text-anchor=\"middle\" x=\"193.5\" y=\"-86\">subject.Allele</text>\n",
       "</a>\n",
       "</g>\n",
       "</g>\n",
       "<!-- subject.Allele&#45;&gt;subject.SubjectAllele -->\n",
       "<g class=\"edge\" id=\"edge4\">\n",
       "<title>subject.Allele-&gt;subject.SubjectAllele</title>\n",
       "<path d=\"M180.3989,-70.9494C172.3062,-60.1083 161.9512,-46.2366 153.8185,-35.3418\" fill=\"none\" stroke=\"#000000\" stroke-opacity=\"0.250980\" stroke-width=\".75\"/>\n",
       "</g>\n",
       "</g>\n",
       "</svg>"
      ],
      "text/plain": [
       "<datajoint.erd.ERD at 0x7f646b937ac8>"
      ]
     },
     "execution_count": 3,
     "metadata": {},
     "output_type": "execute_result"
    }
   ],
   "source": [
    "dj.ERD(subject)"
   ]
  },
  {
   "cell_type": "markdown",
   "metadata": {},
   "source": [
    "# Action"
   ]
  },
  {
   "cell_type": "code",
   "execution_count": 4,
   "metadata": {},
   "outputs": [
    {
     "data": {
      "image/svg+xml": [
       "<svg height=\"43pt\" viewBox=\"0.00 0.00 403.00 43.00\" width=\"403pt\" xmlns=\"http://www.w3.org/2000/svg\" xmlns:xlink=\"http://www.w3.org/1999/xlink\">\n",
       "<g class=\"graph\" id=\"graph0\" transform=\"scale(1 1) rotate(0) translate(4 39)\">\n",
       "<title>%3</title>\n",
       "<polygon fill=\"#ffffff\" points=\"-4,4 -4,-39 399,-39 399,4 -4,4\" stroke=\"transparent\"/>\n",
       "<!-- action.Weighing -->\n",
       "<g class=\"node\" id=\"node1\">\n",
       "<title>action.Weighing</title>\n",
       "<g id=\"a_node1\"><a xlink:title=\"→ subject.Subject\r",
       "------------------------------\r",
       "weight_before        \r",
       "weight_after         \r",
       "\">\n",
       "<polygon fill=\"#00ff00\" fill-opacity=\"0.188235\" points=\"103,-35 0,-35 0,0 103,0 103,-35\" stroke=\"#00ff00\" stroke-opacity=\"0.188235\"/>\n",
       "<text fill=\"#006400\" font-family=\"arial\" font-size=\"12.00\" text-anchor=\"middle\" x=\"51.5\" y=\"-14.4\">action.Weighing</text>\n",
       "</a>\n",
       "</g>\n",
       "</g>\n",
       "<!-- action.WhiskerConfig -->\n",
       "<g class=\"node\" id=\"node2\">\n",
       "<title>action.WhiskerConfig</title>\n",
       "<g id=\"a_node2\"><a xlink:title=\"→ subject.Subject\r",
       "------------------------------\r",
       "→ `gao2018_reference`.`#whisker`\r",
       "\">\n",
       "<polygon fill=\"#00ff00\" fill-opacity=\"0.188235\" points=\"252,-35 121,-35 121,0 252,0 252,-35\" stroke=\"#00ff00\" stroke-opacity=\"0.188235\"/>\n",
       "<text fill=\"#006400\" font-family=\"arial\" font-size=\"12.00\" text-anchor=\"middle\" x=\"186.5\" y=\"-14.4\">action.WhiskerConfig</text>\n",
       "</a>\n",
       "</g>\n",
       "</g>\n",
       "<!-- action.VirusInjection -->\n",
       "<g class=\"node\" id=\"node3\">\n",
       "<title>action.VirusInjection</title>\n",
       "<g id=\"a_node3\"><a xlink:title=\"→ subject.Subject\r",
       "→ reference.Virus\r",
       "→ reference.BrainLocation\r",
       "→ reference.Hemisphere\r",
       "injection_date       \r",
       "------------------------------\r",
       "injection_volume     \r",
       "injection_coordinate_ap \r",
       "injection_coordinate_ml \r",
       "injection_coordinate_dv \r",
       "→ reference.CoordinateReference.proj(injection_coordinate_ref=&quot;coordinate_ref&quot;)\r",
       "\">\n",
       "<polygon fill=\"#00ff00\" fill-opacity=\"0.188235\" points=\"395,-35 270,-35 270,0 395,0 395,-35\" stroke=\"#00ff00\" stroke-opacity=\"0.188235\"/>\n",
       "<text fill=\"#006400\" font-family=\"arial\" font-size=\"12.00\" text-anchor=\"middle\" x=\"332.5\" y=\"-14.4\">action.VirusInjection</text>\n",
       "</a>\n",
       "</g>\n",
       "</g>\n",
       "</g>\n",
       "</svg>"
      ],
      "text/plain": [
       "<datajoint.erd.ERD at 0x7f646b8c8f60>"
      ]
     },
     "execution_count": 4,
     "metadata": {},
     "output_type": "execute_result"
    }
   ],
   "source": [
    "dj.ERD(action)"
   ]
  },
  {
   "cell_type": "markdown",
   "metadata": {},
   "source": [
    "# Acquisition"
   ]
  },
  {
   "cell_type": "code",
   "execution_count": 5,
   "metadata": {},
   "outputs": [
    {
     "data": {
      "image/svg+xml": [
       "<svg height=\"98pt\" viewBox=\"0.00 0.00 474.00 98.00\" width=\"474pt\" xmlns=\"http://www.w3.org/2000/svg\" xmlns:xlink=\"http://www.w3.org/1999/xlink\">\n",
       "<g class=\"graph\" id=\"graph0\" transform=\"scale(1 1) rotate(0) translate(4 94)\">\n",
       "<title>%3</title>\n",
       "<polygon fill=\"#ffffff\" points=\"-4,4 -4,-94 470,-94 470,4 -4,4\" stroke=\"transparent\"/>\n",
       "<!-- acquisition.ExperimentType -->\n",
       "<g class=\"node\" id=\"node1\">\n",
       "<title>acquisition.ExperimentType</title>\n",
       "<g id=\"a_node1\"><a xlink:title=\"experiment_type_name \r",
       "\">\n",
       "<polygon fill=\"#000000\" fill-opacity=\"0.125490\" points=\"156,-90 19,-90 19,-55 156,-55 156,-90\" stroke=\"transparent\"/>\n",
       "<text fill=\"#000000\" font-family=\"arial\" font-size=\"10.00\" text-anchor=\"middle\" x=\"87.5\" y=\"-70\">acquisition.ExperimentType</text>\n",
       "</a>\n",
       "</g>\n",
       "</g>\n",
       "<!-- acquisition.Session.ExperimentType -->\n",
       "<g class=\"node\" id=\"node4\">\n",
       "<title>acquisition.Session.ExperimentType</title>\n",
       "<g id=\"a_node4\"><a xlink:title=\"→ acquisition.Session\r",
       "→ acquisition.ExperimentType\r",
       "\">\n",
       "<polygon fill=\"transparent\" points=\"175,-19 0,-19 0,0 175,0 175,-19\" stroke=\"transparent\"/>\n",
       "<text fill=\"#000000\" font-family=\"arial\" font-size=\"10.00\" text-anchor=\"middle\" x=\"87.5\" y=\"-7\">acquisition.Session.ExperimentType</text>\n",
       "</a>\n",
       "</g>\n",
       "</g>\n",
       "<!-- acquisition.ExperimentType&#45;&gt;acquisition.Session.ExperimentType -->\n",
       "<g class=\"edge\" id=\"edge1\">\n",
       "<title>acquisition.ExperimentType-&gt;acquisition.Session.ExperimentType</title>\n",
       "<path d=\"M87.5,-54.951C87.5,-43.4459 87.5,-28.8292 87.5,-19.3243\" fill=\"none\" stroke=\"#000000\" stroke-opacity=\"0.250980\" stroke-width=\".75\"/>\n",
       "</g>\n",
       "<!-- acquisition.PhotoStim -->\n",
       "<g class=\"node\" id=\"node2\">\n",
       "<title>acquisition.PhotoStim</title>\n",
       "<g id=\"a_node2\"><a xlink:title=\"photo_stim_id        \r",
       "------------------------------\r",
       "photo_stim_wavelength \r",
       "photo_stim_method    \r",
       "→ reference.BrainLocation.proj(photo_stim_location=&quot;brain_location_name&quot;)\r",
       "→ reference.Hemisphere.proj(photo_stim_hemisphere=&quot;hemisphere_name&quot;)\r",
       "→ reference.CoordinateReference.proj(photo_stim_coordinate_ref=&quot;coordinate_ref&quot;)\r",
       "photo_stim_coordinate_ap \r",
       "photo_stim_coordinate_ml \r",
       "photo_stim_coordinate_dv \r",
       "\">\n",
       "<polygon fill=\"#00ff00\" fill-opacity=\"0.188235\" points=\"466,-90 333,-90 333,-55 466,-55 466,-90\" stroke=\"#00ff00\" stroke-opacity=\"0.188235\"/>\n",
       "<text fill=\"#006400\" font-family=\"arial\" font-size=\"12.00\" text-anchor=\"middle\" x=\"399.5\" y=\"-69.4\">acquisition.PhotoStim</text>\n",
       "</a>\n",
       "</g>\n",
       "</g>\n",
       "<!-- acquisition.Session -->\n",
       "<g class=\"node\" id=\"node3\">\n",
       "<title>acquisition.Session</title>\n",
       "<g id=\"a_node3\"><a xlink:title=\"→ subject.Subject\r",
       "session_time         \r",
       "------------------------------\r",
       "session_directory    \r",
       "session_note         \r",
       "\">\n",
       "<polygon fill=\"#00ff00\" fill-opacity=\"0.188235\" points=\"315,-90 194,-90 194,-55 315,-55 315,-90\" stroke=\"#00ff00\" stroke-opacity=\"0.188235\"/>\n",
       "<text fill=\"#006400\" font-family=\"arial\" font-size=\"12.00\" text-anchor=\"middle\" x=\"254.5\" y=\"-69.4\">acquisition.Session</text>\n",
       "</a>\n",
       "</g>\n",
       "</g>\n",
       "<!-- acquisition.Session&#45;&gt;acquisition.Session.ExperimentType -->\n",
       "<g class=\"edge\" id=\"edge2\">\n",
       "<title>acquisition.Session-&gt;acquisition.Session.ExperimentType</title>\n",
       "<path d=\"M207.9812,-54.951C177.2905,-43.3731 138.2469,-28.644 113.0654,-19.1444\" fill=\"none\" stroke=\"#000000\" stroke-opacity=\"0.250980\" stroke-width=\".75\"/>\n",
       "</g>\n",
       "<!-- acquisition.Session.Experimenter -->\n",
       "<g class=\"node\" id=\"node5\">\n",
       "<title>acquisition.Session.Experimenter</title>\n",
       "<g id=\"a_node5\"><a xlink:title=\"→ acquisition.Session\r",
       "→ reference.Experimenter\r",
       "\">\n",
       "<polygon fill=\"transparent\" points=\"355.5,-19 193.5,-19 193.5,0 355.5,0 355.5,-19\" stroke=\"transparent\"/>\n",
       "<text fill=\"#000000\" font-family=\"arial\" font-size=\"10.00\" text-anchor=\"middle\" x=\"274.5\" y=\"-7\">acquisition.Session.Experimenter</text>\n",
       "</a>\n",
       "</g>\n",
       "</g>\n",
       "<!-- acquisition.Session&#45;&gt;acquisition.Session.Experimenter -->\n",
       "<g class=\"edge\" id=\"edge3\">\n",
       "<title>acquisition.Session-&gt;acquisition.Session.Experimenter</title>\n",
       "<path d=\"M260.0711,-54.951C263.7235,-43.4459 268.3638,-28.8292 271.3812,-19.3243\" fill=\"none\" stroke=\"#000000\" stroke-opacity=\"0.250980\" stroke-width=\".75\"/>\n",
       "</g>\n",
       "</g>\n",
       "</svg>"
      ],
      "text/plain": [
       "<datajoint.erd.ERD at 0x7f646b8c81d0>"
      ]
     },
     "execution_count": 5,
     "metadata": {},
     "output_type": "execute_result"
    }
   ],
   "source": [
    "dj.ERD(acquisition)"
   ]
  },
  {
   "cell_type": "markdown",
   "metadata": {},
   "source": [
    "# All Combined"
   ]
  },
  {
   "cell_type": "code",
   "execution_count": 6,
   "metadata": {},
   "outputs": [],
   "source": [
    "all_erd = dj.ERD(reference) + dj.ERD(subject) + dj.ERD(action) + dj.ERD(acquisition)\n"
   ]
  },
  {
   "cell_type": "code",
   "execution_count": null,
   "metadata": {},
   "outputs": [],
   "source": [
    "all_erd.save('/images/all_erd.png')"
   ]
  }
 ],
 "metadata": {
  "kernelspec": {
   "display_name": "Python 3",
   "language": "python",
   "name": "python3"
  },
  "language_info": {
   "codemirror_mode": {
    "name": "ipython",
    "version": 3
   },
   "file_extension": ".py",
   "mimetype": "text/x-python",
   "name": "python",
   "nbconvert_exporter": "python",
   "pygments_lexer": "ipython3",
   "version": "3.6.6"
  }
 },
 "nbformat": 4,
 "nbformat_minor": 2
}
